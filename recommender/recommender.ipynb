{
 "cells": [
  {
   "cell_type": "code",
   "execution_count": 1,
   "id": "d07117b0",
   "metadata": {},
   "outputs": [
    {
     "name": "stderr",
     "output_type": "stream",
     "text": [
      "C:\\anaconda\\lib\\site-packages\\lightfm\\_lightfm_fast.py:9: UserWarning: LightFM was compiled without OpenMP support. Only a single thread will be used.\n",
      "  warnings.warn(\n"
     ]
    }
   ],
   "source": [
    "import pandas as pd\n",
    "import numpy as np\n",
    "import matplotlib.pyplot as plt\n",
    "%matplotlib inline\n",
    "\n",
    "# Для работы с матрицами\n",
    "from scipy.sparse import csr_matrix, coo_matrix\n",
    "\n",
    "# Матричная факторизация\n",
    "from implicit.als import AlternatingLeastSquares\n",
    "from implicit.nearest_neighbours import bm25_weight, tfidf_weight\n",
    "\n",
    "from lightfm import LightFM\n",
    "from lightfm.evaluation import precision_at_k, recall_at_k\n",
    "\n",
    "# Функции из 1-ого вебинара\n",
    "import os, sys\n",
    "\n",
    "module_path = os.path.abspath(os.path.join(os.pardir))\n",
    "if module_path not in sys.path:\n",
    "    sys.path.append(module_path)\n",
    "    \n",
    "from best_rec_lib.metrics import precision_at_k, recall_at_k, ap_k\n",
    "from best_rec_lib.utils import prefilter\n",
    "from best_rec_lib.recommenders import MainRecommender"
   ]
  },
  {
   "cell_type": "markdown",
   "id": "b0436fae",
   "metadata": {},
   "source": [
    "### Данные."
   ]
  },
  {
   "cell_type": "code",
   "execution_count": 2,
   "id": "31658666",
   "metadata": {},
   "outputs": [],
   "source": [
    "data_train = pd.read_csv('retail_train.csv')\n",
    "item_features = pd.read_csv('product.csv')\n",
    "user_features = pd.read_csv('hh_demographic.csv')\n",
    "data_test = pd. read_csv('retail_test.csv')\n",
    "\n",
    "# column processing\n",
    "item_features.columns = [col.lower() for col in item_features.columns]\n",
    "user_features.columns = [col.lower() for col in user_features.columns]\n",
    "\n",
    "item_features.rename(columns={'product_id': 'item_id'}, inplace=True)\n",
    "user_features.rename(columns={'household_key': 'user_id'}, inplace=True)"
   ]
  },
  {
   "cell_type": "code",
   "execution_count": 3,
   "id": "10c9ce12",
   "metadata": {},
   "outputs": [
    {
     "data": {
      "text/html": [
       "<div>\n",
       "<style scoped>\n",
       "    .dataframe tbody tr th:only-of-type {\n",
       "        vertical-align: middle;\n",
       "    }\n",
       "\n",
       "    .dataframe tbody tr th {\n",
       "        vertical-align: top;\n",
       "    }\n",
       "\n",
       "    .dataframe thead th {\n",
       "        text-align: right;\n",
       "    }\n",
       "</style>\n",
       "<table border=\"1\" class=\"dataframe\">\n",
       "  <thead>\n",
       "    <tr style=\"text-align: right;\">\n",
       "      <th></th>\n",
       "      <th>user_id</th>\n",
       "      <th>basket_id</th>\n",
       "      <th>day</th>\n",
       "      <th>item_id</th>\n",
       "      <th>quantity</th>\n",
       "      <th>sales_value</th>\n",
       "      <th>store_id</th>\n",
       "      <th>retail_disc</th>\n",
       "      <th>trans_time</th>\n",
       "      <th>week_no</th>\n",
       "      <th>coupon_disc</th>\n",
       "      <th>coupon_match_disc</th>\n",
       "    </tr>\n",
       "  </thead>\n",
       "  <tbody>\n",
       "    <tr>\n",
       "      <th>0</th>\n",
       "      <td>2375</td>\n",
       "      <td>26984851472</td>\n",
       "      <td>1</td>\n",
       "      <td>1004906</td>\n",
       "      <td>1</td>\n",
       "      <td>1.39</td>\n",
       "      <td>364</td>\n",
       "      <td>-0.6</td>\n",
       "      <td>1631</td>\n",
       "      <td>1</td>\n",
       "      <td>0.0</td>\n",
       "      <td>0.0</td>\n",
       "    </tr>\n",
       "    <tr>\n",
       "      <th>1</th>\n",
       "      <td>2375</td>\n",
       "      <td>26984851472</td>\n",
       "      <td>1</td>\n",
       "      <td>1033142</td>\n",
       "      <td>1</td>\n",
       "      <td>0.82</td>\n",
       "      <td>364</td>\n",
       "      <td>0.0</td>\n",
       "      <td>1631</td>\n",
       "      <td>1</td>\n",
       "      <td>0.0</td>\n",
       "      <td>0.0</td>\n",
       "    </tr>\n",
       "  </tbody>\n",
       "</table>\n",
       "</div>"
      ],
      "text/plain": [
       "   user_id    basket_id  day  item_id  quantity  sales_value  store_id  \\\n",
       "0     2375  26984851472    1  1004906         1         1.39       364   \n",
       "1     2375  26984851472    1  1033142         1         0.82       364   \n",
       "\n",
       "   retail_disc  trans_time  week_no  coupon_disc  coupon_match_disc  \n",
       "0         -0.6        1631        1          0.0                0.0  \n",
       "1          0.0        1631        1          0.0                0.0  "
      ]
     },
     "execution_count": 3,
     "metadata": {},
     "output_type": "execute_result"
    }
   ],
   "source": [
    "data_train.head(2)"
   ]
  },
  {
   "cell_type": "code",
   "execution_count": 4,
   "id": "d76a89d8",
   "metadata": {},
   "outputs": [
    {
     "data": {
      "text/html": [
       "<div>\n",
       "<style scoped>\n",
       "    .dataframe tbody tr th:only-of-type {\n",
       "        vertical-align: middle;\n",
       "    }\n",
       "\n",
       "    .dataframe tbody tr th {\n",
       "        vertical-align: top;\n",
       "    }\n",
       "\n",
       "    .dataframe thead th {\n",
       "        text-align: right;\n",
       "    }\n",
       "</style>\n",
       "<table border=\"1\" class=\"dataframe\">\n",
       "  <thead>\n",
       "    <tr style=\"text-align: right;\">\n",
       "      <th></th>\n",
       "      <th>item_id</th>\n",
       "      <th>manufacturer</th>\n",
       "      <th>department</th>\n",
       "      <th>brand</th>\n",
       "      <th>commodity_desc</th>\n",
       "      <th>sub_commodity_desc</th>\n",
       "      <th>curr_size_of_product</th>\n",
       "    </tr>\n",
       "  </thead>\n",
       "  <tbody>\n",
       "    <tr>\n",
       "      <th>0</th>\n",
       "      <td>25671</td>\n",
       "      <td>2</td>\n",
       "      <td>GROCERY</td>\n",
       "      <td>National</td>\n",
       "      <td>FRZN ICE</td>\n",
       "      <td>ICE - CRUSHED/CUBED</td>\n",
       "      <td>22 LB</td>\n",
       "    </tr>\n",
       "    <tr>\n",
       "      <th>1</th>\n",
       "      <td>26081</td>\n",
       "      <td>2</td>\n",
       "      <td>MISC. TRANS.</td>\n",
       "      <td>National</td>\n",
       "      <td>NO COMMODITY DESCRIPTION</td>\n",
       "      <td>NO SUBCOMMODITY DESCRIPTION</td>\n",
       "      <td></td>\n",
       "    </tr>\n",
       "  </tbody>\n",
       "</table>\n",
       "</div>"
      ],
      "text/plain": [
       "   item_id  manufacturer    department     brand            commodity_desc  \\\n",
       "0    25671             2       GROCERY  National                  FRZN ICE   \n",
       "1    26081             2  MISC. TRANS.  National  NO COMMODITY DESCRIPTION   \n",
       "\n",
       "            sub_commodity_desc curr_size_of_product  \n",
       "0          ICE - CRUSHED/CUBED                22 LB  \n",
       "1  NO SUBCOMMODITY DESCRIPTION                       "
      ]
     },
     "execution_count": 4,
     "metadata": {},
     "output_type": "execute_result"
    }
   ],
   "source": [
    "item_features.head(2)"
   ]
  },
  {
   "cell_type": "code",
   "execution_count": 5,
   "id": "e741d79e",
   "metadata": {},
   "outputs": [
    {
     "data": {
      "text/html": [
       "<div>\n",
       "<style scoped>\n",
       "    .dataframe tbody tr th:only-of-type {\n",
       "        vertical-align: middle;\n",
       "    }\n",
       "\n",
       "    .dataframe tbody tr th {\n",
       "        vertical-align: top;\n",
       "    }\n",
       "\n",
       "    .dataframe thead th {\n",
       "        text-align: right;\n",
       "    }\n",
       "</style>\n",
       "<table border=\"1\" class=\"dataframe\">\n",
       "  <thead>\n",
       "    <tr style=\"text-align: right;\">\n",
       "      <th></th>\n",
       "      <th>age_desc</th>\n",
       "      <th>marital_status_code</th>\n",
       "      <th>income_desc</th>\n",
       "      <th>homeowner_desc</th>\n",
       "      <th>hh_comp_desc</th>\n",
       "      <th>household_size_desc</th>\n",
       "      <th>kid_category_desc</th>\n",
       "      <th>user_id</th>\n",
       "    </tr>\n",
       "  </thead>\n",
       "  <tbody>\n",
       "    <tr>\n",
       "      <th>0</th>\n",
       "      <td>65+</td>\n",
       "      <td>A</td>\n",
       "      <td>35-49K</td>\n",
       "      <td>Homeowner</td>\n",
       "      <td>2 Adults No Kids</td>\n",
       "      <td>2</td>\n",
       "      <td>None/Unknown</td>\n",
       "      <td>1</td>\n",
       "    </tr>\n",
       "    <tr>\n",
       "      <th>1</th>\n",
       "      <td>45-54</td>\n",
       "      <td>A</td>\n",
       "      <td>50-74K</td>\n",
       "      <td>Homeowner</td>\n",
       "      <td>2 Adults No Kids</td>\n",
       "      <td>2</td>\n",
       "      <td>None/Unknown</td>\n",
       "      <td>7</td>\n",
       "    </tr>\n",
       "  </tbody>\n",
       "</table>\n",
       "</div>"
      ],
      "text/plain": [
       "  age_desc marital_status_code income_desc homeowner_desc      hh_comp_desc  \\\n",
       "0      65+                   A      35-49K      Homeowner  2 Adults No Kids   \n",
       "1    45-54                   A      50-74K      Homeowner  2 Adults No Kids   \n",
       "\n",
       "  household_size_desc kid_category_desc  user_id  \n",
       "0                   2      None/Unknown        1  \n",
       "1                   2      None/Unknown        7  "
      ]
     },
     "execution_count": 5,
     "metadata": {},
     "output_type": "execute_result"
    }
   ],
   "source": [
    "user_features.head(2)"
   ]
  },
  {
   "cell_type": "code",
   "execution_count": 6,
   "id": "f5d5fcbb",
   "metadata": {},
   "outputs": [
    {
     "data": {
      "text/html": [
       "<div>\n",
       "<style scoped>\n",
       "    .dataframe tbody tr th:only-of-type {\n",
       "        vertical-align: middle;\n",
       "    }\n",
       "\n",
       "    .dataframe tbody tr th {\n",
       "        vertical-align: top;\n",
       "    }\n",
       "\n",
       "    .dataframe thead th {\n",
       "        text-align: right;\n",
       "    }\n",
       "</style>\n",
       "<table border=\"1\" class=\"dataframe\">\n",
       "  <thead>\n",
       "    <tr style=\"text-align: right;\">\n",
       "      <th></th>\n",
       "      <th>user_id</th>\n",
       "      <th>actual</th>\n",
       "    </tr>\n",
       "  </thead>\n",
       "  <tbody>\n",
       "    <tr>\n",
       "      <th>0</th>\n",
       "      <td>1</td>\n",
       "      <td>[880007, 883616, 931136, 938004, 940947, 94726...</td>\n",
       "    </tr>\n",
       "    <tr>\n",
       "      <th>1</th>\n",
       "      <td>2</td>\n",
       "      <td>[820165, 820291, 826784, 826835, 829009, 85784...</td>\n",
       "    </tr>\n",
       "  </tbody>\n",
       "</table>\n",
       "</div>"
      ],
      "text/plain": [
       "   user_id                                             actual\n",
       "0        1  [880007, 883616, 931136, 938004, 940947, 94726...\n",
       "1        2  [820165, 820291, 826784, 826835, 829009, 85784..."
      ]
     },
     "execution_count": 6,
     "metadata": {},
     "output_type": "execute_result"
    }
   ],
   "source": [
    "result = data_test.groupby('user_id')['item_id'].unique().reset_index()\n",
    "result.columns=['user_id', 'actual']\n",
    "result.head(2)"
   ]
  },
  {
   "cell_type": "markdown",
   "id": "7ae07b2a",
   "metadata": {},
   "source": [
    "### Предобработка данных:\n",
    "        отфильтруем товары:\n",
    "            - оставим топ-5000 товаров, остаьные заменим на фейковый 999999\n",
    "        "
   ]
  },
  {
   "cell_type": "code",
   "execution_count": 7,
   "id": "d05da204",
   "metadata": {},
   "outputs": [
    {
     "name": "stdout",
     "output_type": "stream",
     "text": [
      "Decreased # items from 89051 to 5001\n"
     ]
    }
   ],
   "source": [
    "take_n_popular = 5000\n",
    "n_items_before = data_train['item_id'].nunique()\n",
    "data_train = prefilter(data_train, take_n_popular, item_features)\n",
    "n_items_after = data_train['item_id'].nunique()\n",
    "print('Decreased # items from {} to {}'.format(n_items_before, n_items_after))"
   ]
  },
  {
   "cell_type": "markdown",
   "id": "fde0967a",
   "metadata": {},
   "source": [
    "### Инициализируем MainRecommender"
   ]
  },
  {
   "cell_type": "code",
   "execution_count": 8,
   "id": "373b23b3",
   "metadata": {},
   "outputs": [
    {
     "name": "stderr",
     "output_type": "stream",
     "text": [
      "C:\\anaconda\\lib\\site-packages\\implicit\\utils.py:33: UserWarning: Intel MKL BLAS detected. Its highly recommend to set the environment variable 'export MKL_NUM_THREADS=1' to disable its internal multithreading\n",
      "  warnings.warn(\n"
     ]
    },
    {
     "data": {
      "application/vnd.jupyter.widget-view+json": {
       "model_id": "163b0bf93df746a4bac506f15cb27655",
       "version_major": 2,
       "version_minor": 0
      },
      "text/plain": [
       "  0%|          | 0/50 [00:00<?, ?it/s]"
      ]
     },
     "metadata": {},
     "output_type": "display_data"
    },
    {
     "data": {
      "application/vnd.jupyter.widget-view+json": {
       "model_id": "b39ccd381b8b4d87a7efdb991775d275",
       "version_major": 2,
       "version_minor": 0
      },
      "text/plain": [
       "  0%|          | 0/5001 [00:00<?, ?it/s]"
      ]
     },
     "metadata": {},
     "output_type": "display_data"
    }
   ],
   "source": [
    "main_rec = MainRecommender(data_train)"
   ]
  },
  {
   "cell_type": "markdown",
   "id": "7e0d6110",
   "metadata": {},
   "source": [
    "### Составим матрицу взаимодействия согласно количеству купленных товаром пользователем"
   ]
  },
  {
   "cell_type": "code",
   "execution_count": 9,
   "id": "474b6df2",
   "metadata": {},
   "outputs": [
    {
     "data": {
      "text/html": [
       "<div>\n",
       "<style scoped>\n",
       "    .dataframe tbody tr th:only-of-type {\n",
       "        vertical-align: middle;\n",
       "    }\n",
       "\n",
       "    .dataframe tbody tr th {\n",
       "        vertical-align: top;\n",
       "    }\n",
       "\n",
       "    .dataframe thead th {\n",
       "        text-align: right;\n",
       "    }\n",
       "</style>\n",
       "<table border=\"1\" class=\"dataframe\">\n",
       "  <thead>\n",
       "    <tr style=\"text-align: right;\">\n",
       "      <th>item_id</th>\n",
       "      <th>202291</th>\n",
       "      <th>397896</th>\n",
       "      <th>420647</th>\n",
       "      <th>480014</th>\n",
       "      <th>545926</th>\n",
       "      <th>707683</th>\n",
       "      <th>731106</th>\n",
       "      <th>818980</th>\n",
       "      <th>819063</th>\n",
       "      <th>819227</th>\n",
       "      <th>...</th>\n",
       "      <th>15926775</th>\n",
       "      <th>15926844</th>\n",
       "      <th>15926885</th>\n",
       "      <th>15926886</th>\n",
       "      <th>15926927</th>\n",
       "      <th>15927403</th>\n",
       "      <th>15927661</th>\n",
       "      <th>15927850</th>\n",
       "      <th>16809471</th>\n",
       "      <th>17105257</th>\n",
       "    </tr>\n",
       "    <tr>\n",
       "      <th>user_id</th>\n",
       "      <th></th>\n",
       "      <th></th>\n",
       "      <th></th>\n",
       "      <th></th>\n",
       "      <th></th>\n",
       "      <th></th>\n",
       "      <th></th>\n",
       "      <th></th>\n",
       "      <th></th>\n",
       "      <th></th>\n",
       "      <th></th>\n",
       "      <th></th>\n",
       "      <th></th>\n",
       "      <th></th>\n",
       "      <th></th>\n",
       "      <th></th>\n",
       "      <th></th>\n",
       "      <th></th>\n",
       "      <th></th>\n",
       "      <th></th>\n",
       "      <th></th>\n",
       "    </tr>\n",
       "  </thead>\n",
       "  <tbody>\n",
       "    <tr>\n",
       "      <th>1</th>\n",
       "      <td>0.0</td>\n",
       "      <td>0.0</td>\n",
       "      <td>0.0</td>\n",
       "      <td>0.0</td>\n",
       "      <td>0.0</td>\n",
       "      <td>0.0</td>\n",
       "      <td>0.0</td>\n",
       "      <td>0.0</td>\n",
       "      <td>0.0</td>\n",
       "      <td>0.0</td>\n",
       "      <td>...</td>\n",
       "      <td>0.0</td>\n",
       "      <td>1.0</td>\n",
       "      <td>0.0</td>\n",
       "      <td>0.0</td>\n",
       "      <td>2.0</td>\n",
       "      <td>0.0</td>\n",
       "      <td>0.0</td>\n",
       "      <td>0.0</td>\n",
       "      <td>0.0</td>\n",
       "      <td>0.0</td>\n",
       "    </tr>\n",
       "    <tr>\n",
       "      <th>2</th>\n",
       "      <td>0.0</td>\n",
       "      <td>0.0</td>\n",
       "      <td>0.0</td>\n",
       "      <td>0.0</td>\n",
       "      <td>0.0</td>\n",
       "      <td>0.0</td>\n",
       "      <td>0.0</td>\n",
       "      <td>0.0</td>\n",
       "      <td>0.0</td>\n",
       "      <td>0.0</td>\n",
       "      <td>...</td>\n",
       "      <td>0.0</td>\n",
       "      <td>0.0</td>\n",
       "      <td>0.0</td>\n",
       "      <td>0.0</td>\n",
       "      <td>0.0</td>\n",
       "      <td>0.0</td>\n",
       "      <td>0.0</td>\n",
       "      <td>0.0</td>\n",
       "      <td>0.0</td>\n",
       "      <td>0.0</td>\n",
       "    </tr>\n",
       "  </tbody>\n",
       "</table>\n",
       "<p>2 rows × 5001 columns</p>\n",
       "</div>"
      ],
      "text/plain": [
       "item_id  202291    397896    420647    480014    545926    707683    731106    \\\n",
       "user_id                                                                         \n",
       "1             0.0       0.0       0.0       0.0       0.0       0.0       0.0   \n",
       "2             0.0       0.0       0.0       0.0       0.0       0.0       0.0   \n",
       "\n",
       "item_id  818980    819063    819227    ...  15926775  15926844  15926885  \\\n",
       "user_id                                ...                                 \n",
       "1             0.0       0.0       0.0  ...       0.0       1.0       0.0   \n",
       "2             0.0       0.0       0.0  ...       0.0       0.0       0.0   \n",
       "\n",
       "item_id  15926886  15926927  15927403  15927661  15927850  16809471  17105257  \n",
       "user_id                                                                        \n",
       "1             0.0       2.0       0.0       0.0       0.0       0.0       0.0  \n",
       "2             0.0       0.0       0.0       0.0       0.0       0.0       0.0  \n",
       "\n",
       "[2 rows x 5001 columns]"
      ]
     },
     "execution_count": 9,
     "metadata": {},
     "output_type": "execute_result"
    }
   ],
   "source": [
    "user_item_matrix = main_rec._prepare_matrix(data_train)\n",
    "user_item_matrix.head(2)"
   ]
  },
  {
   "cell_type": "code",
   "execution_count": 10,
   "id": "18961340",
   "metadata": {},
   "outputs": [],
   "source": [
    "sparse_user_item = csr_matrix(user_item_matrix).tocsr()"
   ]
  },
  {
   "cell_type": "markdown",
   "id": "af751e30",
   "metadata": {},
   "source": [
    "### Обучим модель ItemItemRecommender  и ALS"
   ]
  },
  {
   "cell_type": "code",
   "execution_count": 11,
   "id": "1602d5de",
   "metadata": {},
   "outputs": [
    {
     "data": {
      "application/vnd.jupyter.widget-view+json": {
       "model_id": "033ab0955a1c41d4b661648f2c114a66",
       "version_major": 2,
       "version_minor": 0
      },
      "text/plain": [
       "  0%|          | 0/5001 [00:00<?, ?it/s]"
      ]
     },
     "metadata": {},
     "output_type": "display_data"
    }
   ],
   "source": [
    "ItemItem = main_rec.fit_own_recommender(sparse_user_item)"
   ]
  },
  {
   "cell_type": "code",
   "execution_count": 12,
   "id": "bb39c29d",
   "metadata": {},
   "outputs": [
    {
     "data": {
      "application/vnd.jupyter.widget-view+json": {
       "model_id": "2a97611aaa4e4a00b59ff7821c4b3798",
       "version_major": 2,
       "version_minor": 0
      },
      "text/plain": [
       "  0%|          | 0/15 [00:00<?, ?it/s]"
      ]
     },
     "metadata": {},
     "output_type": "display_data"
    }
   ],
   "source": [
    "ALS = main_rec.fit(sparse_user_item, n_factors=20, regularization=0.01, iterations=15, num_threads=4)"
   ]
  },
  {
   "cell_type": "markdown",
   "id": "cd26848d",
   "metadata": {},
   "source": [
    "### Получим предсказанния"
   ]
  },
  {
   "cell_type": "code",
   "execution_count": 13,
   "id": "e53b9f24",
   "metadata": {},
   "outputs": [],
   "source": [
    "result['ItemItem'] = result['user_id'].apply(lambda x: main_rec.get_own_recommendations(x, N=5))"
   ]
  },
  {
   "cell_type": "code",
   "execution_count": 14,
   "id": "026a2b28",
   "metadata": {},
   "outputs": [],
   "source": [
    "result['ALS'] = result['user_id'].apply(lambda x: main_rec.get_als_recommendations(x, N=5))"
   ]
  },
  {
   "cell_type": "code",
   "execution_count": 15,
   "id": "7e52bdf2",
   "metadata": {
    "scrolled": true
   },
   "outputs": [
    {
     "data": {
      "text/html": [
       "<div>\n",
       "<style scoped>\n",
       "    .dataframe tbody tr th:only-of-type {\n",
       "        vertical-align: middle;\n",
       "    }\n",
       "\n",
       "    .dataframe tbody tr th {\n",
       "        vertical-align: top;\n",
       "    }\n",
       "\n",
       "    .dataframe thead th {\n",
       "        text-align: right;\n",
       "    }\n",
       "</style>\n",
       "<table border=\"1\" class=\"dataframe\">\n",
       "  <thead>\n",
       "    <tr style=\"text-align: right;\">\n",
       "      <th></th>\n",
       "      <th>user_id</th>\n",
       "      <th>actual</th>\n",
       "      <th>ItemItem</th>\n",
       "      <th>ALS</th>\n",
       "    </tr>\n",
       "  </thead>\n",
       "  <tbody>\n",
       "    <tr>\n",
       "      <th>0</th>\n",
       "      <td>1</td>\n",
       "      <td>[880007, 883616, 931136, 938004, 940947, 94726...</td>\n",
       "      <td>[856942, 940947, 5577022, 9297615, 9527290]</td>\n",
       "      <td>[965766, 995242, 1082185, 934369, 962568]</td>\n",
       "    </tr>\n",
       "    <tr>\n",
       "      <th>1</th>\n",
       "      <td>2</td>\n",
       "      <td>[820165, 820291, 826784, 826835, 829009, 85784...</td>\n",
       "      <td>[1075368, 8090521, 1070803, 1040807, 1133018]</td>\n",
       "      <td>[1133018, 5569230, 1082185, 1106523, 995242]</td>\n",
       "    </tr>\n",
       "    <tr>\n",
       "      <th>2</th>\n",
       "      <td>3</td>\n",
       "      <td>[827683, 908531, 989069, 1071377, 1080155, 109...</td>\n",
       "      <td>[1053690, 1070803, 1092026, 998206, 885697]</td>\n",
       "      <td>[1133018, 951590, 1106523, 1053690, 1092026]</td>\n",
       "    </tr>\n",
       "  </tbody>\n",
       "</table>\n",
       "</div>"
      ],
      "text/plain": [
       "   user_id                                             actual  \\\n",
       "0        1  [880007, 883616, 931136, 938004, 940947, 94726...   \n",
       "1        2  [820165, 820291, 826784, 826835, 829009, 85784...   \n",
       "2        3  [827683, 908531, 989069, 1071377, 1080155, 109...   \n",
       "\n",
       "                                        ItemItem  \\\n",
       "0    [856942, 940947, 5577022, 9297615, 9527290]   \n",
       "1  [1075368, 8090521, 1070803, 1040807, 1133018]   \n",
       "2    [1053690, 1070803, 1092026, 998206, 885697]   \n",
       "\n",
       "                                            ALS  \n",
       "0     [965766, 995242, 1082185, 934369, 962568]  \n",
       "1  [1133018, 5569230, 1082185, 1106523, 995242]  \n",
       "2  [1133018, 951590, 1106523, 1053690, 1092026]  "
      ]
     },
     "execution_count": 15,
     "metadata": {},
     "output_type": "execute_result"
    }
   ],
   "source": [
    "result.head(3)"
   ]
  },
  {
   "cell_type": "markdown",
   "id": "8c88c734",
   "metadata": {},
   "source": [
    "### Посчитаем метрики "
   ]
  },
  {
   "cell_type": "code",
   "execution_count": 16,
   "id": "61ccac84",
   "metadata": {},
   "outputs": [
    {
     "data": {
      "text/plain": [
       "0.31883289124668374"
      ]
     },
     "execution_count": 16,
     "metadata": {},
     "output_type": "execute_result"
    }
   ],
   "source": [
    "result.apply(lambda row: precision_at_k(row['ItemItem'], row['actual']), axis=1).mean()"
   ]
  },
  {
   "cell_type": "code",
   "execution_count": 17,
   "id": "0b6731a4",
   "metadata": {},
   "outputs": [
    {
     "data": {
      "text/plain": [
       "0.20403183023872407"
      ]
     },
     "execution_count": 17,
     "metadata": {},
     "output_type": "execute_result"
    }
   ],
   "source": [
    "result.apply(lambda row: precision_at_k(row['ALS'], row['actual']), axis=1).mean()"
   ]
  },
  {
   "cell_type": "code",
   "execution_count": 18,
   "id": "55cd7cee",
   "metadata": {},
   "outputs": [
    {
     "data": {
      "text/plain": [
       "0.05591649194368882"
      ]
     },
     "execution_count": 18,
     "metadata": {},
     "output_type": "execute_result"
    }
   ],
   "source": [
    "result.apply(lambda row: recall_at_k(row['ItemItem'], row['actual']), axis=1).mean()"
   ]
  },
  {
   "cell_type": "code",
   "execution_count": 19,
   "id": "1520f170",
   "metadata": {},
   "outputs": [
    {
     "data": {
      "text/plain": [
       "0.03807517981603808"
      ]
     },
     "execution_count": 19,
     "metadata": {},
     "output_type": "execute_result"
    }
   ],
   "source": [
    "result.apply(lambda row: recall_at_k(row['ALS'], row['actual']), axis=1).mean()"
   ]
  },
  {
   "cell_type": "code",
   "execution_count": 20,
   "id": "2658626f",
   "metadata": {},
   "outputs": [
    {
     "data": {
      "text/plain": [
       "0.24072855879752428"
      ]
     },
     "execution_count": 20,
     "metadata": {},
     "output_type": "execute_result"
    }
   ],
   "source": [
    "result.apply(lambda row: ap_k(row['ItemItem'], row['actual']), axis=1).mean()"
   ]
  },
  {
   "cell_type": "code",
   "execution_count": 21,
   "id": "0465e712",
   "metadata": {},
   "outputs": [
    {
     "data": {
      "text/plain": [
       "0.1361061007957553"
      ]
     },
     "execution_count": 21,
     "metadata": {},
     "output_type": "execute_result"
    }
   ],
   "source": [
    "result.apply(lambda row: ap_k(row['ALS'], row['actual']), axis=1).mean()"
   ]
  },
  {
   "cell_type": "markdown",
   "id": "3c4df230",
   "metadata": {},
   "source": [
    "### Попробуем изменить параметры MainRecommendor\n",
    "    отфильтруем товары:\n",
    "            1. оставим топ-3000 товаров, остаьные заменим на фейковый 999999\n",
    "            2. оставим топ-6000 товаров, остаьные заменим на фейковый 999999\n"
   ]
  },
  {
   "cell_type": "markdown",
   "id": "e5ee74fc",
   "metadata": {},
   "source": [
    "### 1"
   ]
  },
  {
   "cell_type": "code",
   "execution_count": 22,
   "id": "02770c5a",
   "metadata": {},
   "outputs": [],
   "source": [
    "data_train = pd.read_csv('retail_train.csv')"
   ]
  },
  {
   "cell_type": "code",
   "execution_count": 23,
   "id": "9091e201",
   "metadata": {},
   "outputs": [
    {
     "name": "stdout",
     "output_type": "stream",
     "text": [
      "Decreased # items from 89051 to 3001\n"
     ]
    }
   ],
   "source": [
    "take_n_popular = 3000\n",
    "n_items_before = data_train['item_id'].nunique()\n",
    "data_train_3000 = prefilter(data_train, take_n_popular, item_features)\n",
    "n_items_after = data_train_3000['item_id'].nunique()\n",
    "print('Decreased # items from {} to {}'.format(n_items_before, n_items_after))"
   ]
  },
  {
   "cell_type": "code",
   "execution_count": 24,
   "id": "33cd0a71",
   "metadata": {},
   "outputs": [
    {
     "data": {
      "application/vnd.jupyter.widget-view+json": {
       "model_id": "f98508fd26ea485c9c66c5a262f64b9e",
       "version_major": 2,
       "version_minor": 0
      },
      "text/plain": [
       "  0%|          | 0/50 [00:00<?, ?it/s]"
      ]
     },
     "metadata": {},
     "output_type": "display_data"
    },
    {
     "data": {
      "application/vnd.jupyter.widget-view+json": {
       "model_id": "8365c34621a24eaa89bbb11ace376975",
       "version_major": 2,
       "version_minor": 0
      },
      "text/plain": [
       "  0%|          | 0/3001 [00:00<?, ?it/s]"
      ]
     },
     "metadata": {},
     "output_type": "display_data"
    }
   ],
   "source": [
    "main_rec_3000 = MainRecommender(data_train_3000)"
   ]
  },
  {
   "cell_type": "code",
   "execution_count": 25,
   "id": "f51fb683",
   "metadata": {
    "scrolled": true
   },
   "outputs": [
    {
     "data": {
      "text/html": [
       "<div>\n",
       "<style scoped>\n",
       "    .dataframe tbody tr th:only-of-type {\n",
       "        vertical-align: middle;\n",
       "    }\n",
       "\n",
       "    .dataframe tbody tr th {\n",
       "        vertical-align: top;\n",
       "    }\n",
       "\n",
       "    .dataframe thead th {\n",
       "        text-align: right;\n",
       "    }\n",
       "</style>\n",
       "<table border=\"1\" class=\"dataframe\">\n",
       "  <thead>\n",
       "    <tr style=\"text-align: right;\">\n",
       "      <th>item_id</th>\n",
       "      <th>202291</th>\n",
       "      <th>397896</th>\n",
       "      <th>420647</th>\n",
       "      <th>480014</th>\n",
       "      <th>545926</th>\n",
       "      <th>707683</th>\n",
       "      <th>731106</th>\n",
       "      <th>818980</th>\n",
       "      <th>819063</th>\n",
       "      <th>819255</th>\n",
       "      <th>...</th>\n",
       "      <th>15506577</th>\n",
       "      <th>15511891</th>\n",
       "      <th>15596279</th>\n",
       "      <th>15926712</th>\n",
       "      <th>15926844</th>\n",
       "      <th>15926886</th>\n",
       "      <th>15927403</th>\n",
       "      <th>15927661</th>\n",
       "      <th>15927850</th>\n",
       "      <th>16809471</th>\n",
       "    </tr>\n",
       "    <tr>\n",
       "      <th>user_id</th>\n",
       "      <th></th>\n",
       "      <th></th>\n",
       "      <th></th>\n",
       "      <th></th>\n",
       "      <th></th>\n",
       "      <th></th>\n",
       "      <th></th>\n",
       "      <th></th>\n",
       "      <th></th>\n",
       "      <th></th>\n",
       "      <th></th>\n",
       "      <th></th>\n",
       "      <th></th>\n",
       "      <th></th>\n",
       "      <th></th>\n",
       "      <th></th>\n",
       "      <th></th>\n",
       "      <th></th>\n",
       "      <th></th>\n",
       "      <th></th>\n",
       "      <th></th>\n",
       "    </tr>\n",
       "  </thead>\n",
       "  <tbody>\n",
       "    <tr>\n",
       "      <th>1</th>\n",
       "      <td>0.0</td>\n",
       "      <td>0.0</td>\n",
       "      <td>0.0</td>\n",
       "      <td>0.0</td>\n",
       "      <td>0.0</td>\n",
       "      <td>0.0</td>\n",
       "      <td>0.0</td>\n",
       "      <td>0.0</td>\n",
       "      <td>0.0</td>\n",
       "      <td>0.0</td>\n",
       "      <td>...</td>\n",
       "      <td>0.0</td>\n",
       "      <td>0.0</td>\n",
       "      <td>0.0</td>\n",
       "      <td>1.0</td>\n",
       "      <td>1.0</td>\n",
       "      <td>0.0</td>\n",
       "      <td>0.0</td>\n",
       "      <td>0.0</td>\n",
       "      <td>0.0</td>\n",
       "      <td>0.0</td>\n",
       "    </tr>\n",
       "    <tr>\n",
       "      <th>2</th>\n",
       "      <td>0.0</td>\n",
       "      <td>0.0</td>\n",
       "      <td>0.0</td>\n",
       "      <td>0.0</td>\n",
       "      <td>0.0</td>\n",
       "      <td>0.0</td>\n",
       "      <td>0.0</td>\n",
       "      <td>0.0</td>\n",
       "      <td>0.0</td>\n",
       "      <td>0.0</td>\n",
       "      <td>...</td>\n",
       "      <td>0.0</td>\n",
       "      <td>0.0</td>\n",
       "      <td>0.0</td>\n",
       "      <td>0.0</td>\n",
       "      <td>0.0</td>\n",
       "      <td>0.0</td>\n",
       "      <td>0.0</td>\n",
       "      <td>0.0</td>\n",
       "      <td>0.0</td>\n",
       "      <td>0.0</td>\n",
       "    </tr>\n",
       "  </tbody>\n",
       "</table>\n",
       "<p>2 rows × 3001 columns</p>\n",
       "</div>"
      ],
      "text/plain": [
       "item_id  202291    397896    420647    480014    545926    707683    731106    \\\n",
       "user_id                                                                         \n",
       "1             0.0       0.0       0.0       0.0       0.0       0.0       0.0   \n",
       "2             0.0       0.0       0.0       0.0       0.0       0.0       0.0   \n",
       "\n",
       "item_id  818980    819063    819255    ...  15506577  15511891  15596279  \\\n",
       "user_id                                ...                                 \n",
       "1             0.0       0.0       0.0  ...       0.0       0.0       0.0   \n",
       "2             0.0       0.0       0.0  ...       0.0       0.0       0.0   \n",
       "\n",
       "item_id  15926712  15926844  15926886  15927403  15927661  15927850  16809471  \n",
       "user_id                                                                        \n",
       "1             1.0       1.0       0.0       0.0       0.0       0.0       0.0  \n",
       "2             0.0       0.0       0.0       0.0       0.0       0.0       0.0  \n",
       "\n",
       "[2 rows x 3001 columns]"
      ]
     },
     "execution_count": 25,
     "metadata": {},
     "output_type": "execute_result"
    }
   ],
   "source": [
    "user_item_matrix = main_rec_3000._prepare_matrix(data_train_3000)\n",
    "user_item_matrix.head(2)"
   ]
  },
  {
   "cell_type": "code",
   "execution_count": 26,
   "id": "f01726ca",
   "metadata": {},
   "outputs": [],
   "source": [
    "sparse_user_item = csr_matrix(user_item_matrix).tocsr()"
   ]
  },
  {
   "cell_type": "code",
   "execution_count": 27,
   "id": "dc674013",
   "metadata": {},
   "outputs": [
    {
     "data": {
      "application/vnd.jupyter.widget-view+json": {
       "model_id": "13867188c9d64516b4a793b989e653d6",
       "version_major": 2,
       "version_minor": 0
      },
      "text/plain": [
       "  0%|          | 0/3001 [00:00<?, ?it/s]"
      ]
     },
     "metadata": {},
     "output_type": "display_data"
    },
    {
     "data": {
      "text/plain": [
       "<implicit.nearest_neighbours.ItemItemRecommender at 0x16906a028b0>"
      ]
     },
     "execution_count": 27,
     "metadata": {},
     "output_type": "execute_result"
    }
   ],
   "source": [
    "main_rec_3000.fit_own_recommender(sparse_user_item)"
   ]
  },
  {
   "cell_type": "code",
   "execution_count": 28,
   "id": "67ee07f7",
   "metadata": {},
   "outputs": [
    {
     "data": {
      "application/vnd.jupyter.widget-view+json": {
       "model_id": "287143c0f89f461283a4157ae3fd3fbc",
       "version_major": 2,
       "version_minor": 0
      },
      "text/plain": [
       "  0%|          | 0/15 [00:00<?, ?it/s]"
      ]
     },
     "metadata": {},
     "output_type": "display_data"
    },
    {
     "data": {
      "text/plain": [
       "<implicit.cpu.als.AlternatingLeastSquares at 0x169059f76a0>"
      ]
     },
     "execution_count": 28,
     "metadata": {},
     "output_type": "execute_result"
    }
   ],
   "source": [
    " main_rec_3000.fit(sparse_user_item, n_factors=20, regularization=0.01, iterations=15, num_threads=4)"
   ]
  },
  {
   "cell_type": "code",
   "execution_count": 29,
   "id": "1a9211d0",
   "metadata": {},
   "outputs": [],
   "source": [
    "result['ItemItem_3000'] = result['user_id'].apply(lambda x: main_rec_3000.get_own_recommendations(x, N=5))"
   ]
  },
  {
   "cell_type": "code",
   "execution_count": 30,
   "id": "7ef8046f",
   "metadata": {},
   "outputs": [],
   "source": [
    "result['ALS_3000'] = result['user_id'].apply(lambda x: main_rec_3000.get_als_recommendations(x, N=5))"
   ]
  },
  {
   "cell_type": "code",
   "execution_count": 31,
   "id": "103ccae6",
   "metadata": {},
   "outputs": [
    {
     "data": {
      "text/plain": [
       "0.3540583554376658"
      ]
     },
     "execution_count": 31,
     "metadata": {},
     "output_type": "execute_result"
    }
   ],
   "source": [
    "result.apply(lambda row: precision_at_k(row['ItemItem_3000'], row['actual']), axis=1).mean()"
   ]
  },
  {
   "cell_type": "code",
   "execution_count": 32,
   "id": "e2e2c814",
   "metadata": {},
   "outputs": [
    {
     "data": {
      "text/plain": [
       "0.19236074270556758"
      ]
     },
     "execution_count": 32,
     "metadata": {},
     "output_type": "execute_result"
    }
   ],
   "source": [
    "result.apply(lambda row: precision_at_k(row['ALS_3000'], row['actual']), axis=1).mean()"
   ]
  },
  {
   "cell_type": "code",
   "execution_count": 33,
   "id": "caea660f",
   "metadata": {},
   "outputs": [
    {
     "data": {
      "text/plain": [
       "0.05987876731353509"
      ]
     },
     "execution_count": 33,
     "metadata": {},
     "output_type": "execute_result"
    }
   ],
   "source": [
    "result.apply(lambda row: recall_at_k(row['ItemItem_3000'], row['actual']), axis=1).mean()"
   ]
  },
  {
   "cell_type": "code",
   "execution_count": 34,
   "id": "b4e3ebb4",
   "metadata": {},
   "outputs": [
    {
     "data": {
      "text/plain": [
       "0.03735925432825599"
      ]
     },
     "execution_count": 34,
     "metadata": {},
     "output_type": "execute_result"
    }
   ],
   "source": [
    "result.apply(lambda row: recall_at_k(row['ALS_3000'], row['actual']), axis=1).mean()"
   ]
  },
  {
   "cell_type": "code",
   "execution_count": 35,
   "id": "37fc6b6e",
   "metadata": {},
   "outputs": [
    {
     "data": {
      "text/plain": [
       "0.2812183908045979"
      ]
     },
     "execution_count": 35,
     "metadata": {},
     "output_type": "execute_result"
    }
   ],
   "source": [
    "result.apply(lambda row: ap_k(row['ItemItem_3000'], row['actual']), axis=1).mean()"
   ]
  },
  {
   "cell_type": "code",
   "execution_count": 36,
   "id": "a04e3153",
   "metadata": {},
   "outputs": [
    {
     "data": {
      "text/plain": [
       "0.12331564986737352"
      ]
     },
     "execution_count": 36,
     "metadata": {},
     "output_type": "execute_result"
    }
   ],
   "source": [
    "result.apply(lambda row: ap_k(row['ALS_3000'], row['actual']), axis=1).mean()"
   ]
  },
  {
   "cell_type": "markdown",
   "id": "103aabba",
   "metadata": {},
   "source": [
    "### 2"
   ]
  },
  {
   "cell_type": "code",
   "execution_count": 37,
   "id": "9f34af64",
   "metadata": {},
   "outputs": [],
   "source": [
    "data_train = pd.read_csv('retail_train.csv')"
   ]
  },
  {
   "cell_type": "code",
   "execution_count": 38,
   "id": "fa849ac9",
   "metadata": {},
   "outputs": [
    {
     "name": "stdout",
     "output_type": "stream",
     "text": [
      "Decreased # items from 89051 to 6001\n"
     ]
    }
   ],
   "source": [
    "take_n_popular = 6000\n",
    "n_items_before = data_train['item_id'].nunique()\n",
    "data_train_6000 = prefilter(data_train, take_n_popular, item_features)\n",
    "n_items_after = data_train_6000['item_id'].nunique()\n",
    "print('Decreased # items from {} to {}'.format(n_items_before, n_items_after))"
   ]
  },
  {
   "cell_type": "code",
   "execution_count": 39,
   "id": "d4582c26",
   "metadata": {},
   "outputs": [
    {
     "data": {
      "application/vnd.jupyter.widget-view+json": {
       "model_id": "54261d2442bf49eb95de8507e6129fc3",
       "version_major": 2,
       "version_minor": 0
      },
      "text/plain": [
       "  0%|          | 0/50 [00:00<?, ?it/s]"
      ]
     },
     "metadata": {},
     "output_type": "display_data"
    },
    {
     "data": {
      "application/vnd.jupyter.widget-view+json": {
       "model_id": "b24ab1e0700a4d71b77b7a00f2f06c62",
       "version_major": 2,
       "version_minor": 0
      },
      "text/plain": [
       "  0%|          | 0/6001 [00:00<?, ?it/s]"
      ]
     },
     "metadata": {},
     "output_type": "display_data"
    }
   ],
   "source": [
    "main_rec_6000 = MainRecommender(data_train_6000)"
   ]
  },
  {
   "cell_type": "code",
   "execution_count": 40,
   "id": "ac87897f",
   "metadata": {},
   "outputs": [
    {
     "data": {
      "text/html": [
       "<div>\n",
       "<style scoped>\n",
       "    .dataframe tbody tr th:only-of-type {\n",
       "        vertical-align: middle;\n",
       "    }\n",
       "\n",
       "    .dataframe tbody tr th {\n",
       "        vertical-align: top;\n",
       "    }\n",
       "\n",
       "    .dataframe thead th {\n",
       "        text-align: right;\n",
       "    }\n",
       "</style>\n",
       "<table border=\"1\" class=\"dataframe\">\n",
       "  <thead>\n",
       "    <tr style=\"text-align: right;\">\n",
       "      <th>item_id</th>\n",
       "      <th>202291</th>\n",
       "      <th>397896</th>\n",
       "      <th>420647</th>\n",
       "      <th>480014</th>\n",
       "      <th>545926</th>\n",
       "      <th>707683</th>\n",
       "      <th>731106</th>\n",
       "      <th>818980</th>\n",
       "      <th>818981</th>\n",
       "      <th>819063</th>\n",
       "      <th>...</th>\n",
       "      <th>15926886</th>\n",
       "      <th>15926887</th>\n",
       "      <th>15926927</th>\n",
       "      <th>15927033</th>\n",
       "      <th>15927403</th>\n",
       "      <th>15927661</th>\n",
       "      <th>15927850</th>\n",
       "      <th>15972298</th>\n",
       "      <th>16809471</th>\n",
       "      <th>17105257</th>\n",
       "    </tr>\n",
       "    <tr>\n",
       "      <th>user_id</th>\n",
       "      <th></th>\n",
       "      <th></th>\n",
       "      <th></th>\n",
       "      <th></th>\n",
       "      <th></th>\n",
       "      <th></th>\n",
       "      <th></th>\n",
       "      <th></th>\n",
       "      <th></th>\n",
       "      <th></th>\n",
       "      <th></th>\n",
       "      <th></th>\n",
       "      <th></th>\n",
       "      <th></th>\n",
       "      <th></th>\n",
       "      <th></th>\n",
       "      <th></th>\n",
       "      <th></th>\n",
       "      <th></th>\n",
       "      <th></th>\n",
       "      <th></th>\n",
       "    </tr>\n",
       "  </thead>\n",
       "  <tbody>\n",
       "    <tr>\n",
       "      <th>1</th>\n",
       "      <td>0.0</td>\n",
       "      <td>0.0</td>\n",
       "      <td>0.0</td>\n",
       "      <td>0.0</td>\n",
       "      <td>0.0</td>\n",
       "      <td>0.0</td>\n",
       "      <td>0.0</td>\n",
       "      <td>0.0</td>\n",
       "      <td>0.0</td>\n",
       "      <td>0.0</td>\n",
       "      <td>...</td>\n",
       "      <td>0.0</td>\n",
       "      <td>0.0</td>\n",
       "      <td>2.0</td>\n",
       "      <td>0.0</td>\n",
       "      <td>0.0</td>\n",
       "      <td>0.0</td>\n",
       "      <td>0.0</td>\n",
       "      <td>0.0</td>\n",
       "      <td>0.0</td>\n",
       "      <td>0.0</td>\n",
       "    </tr>\n",
       "    <tr>\n",
       "      <th>2</th>\n",
       "      <td>0.0</td>\n",
       "      <td>0.0</td>\n",
       "      <td>0.0</td>\n",
       "      <td>0.0</td>\n",
       "      <td>0.0</td>\n",
       "      <td>0.0</td>\n",
       "      <td>0.0</td>\n",
       "      <td>0.0</td>\n",
       "      <td>0.0</td>\n",
       "      <td>0.0</td>\n",
       "      <td>...</td>\n",
       "      <td>0.0</td>\n",
       "      <td>0.0</td>\n",
       "      <td>0.0</td>\n",
       "      <td>0.0</td>\n",
       "      <td>0.0</td>\n",
       "      <td>0.0</td>\n",
       "      <td>0.0</td>\n",
       "      <td>0.0</td>\n",
       "      <td>0.0</td>\n",
       "      <td>0.0</td>\n",
       "    </tr>\n",
       "  </tbody>\n",
       "</table>\n",
       "<p>2 rows × 6001 columns</p>\n",
       "</div>"
      ],
      "text/plain": [
       "item_id  202291    397896    420647    480014    545926    707683    731106    \\\n",
       "user_id                                                                         \n",
       "1             0.0       0.0       0.0       0.0       0.0       0.0       0.0   \n",
       "2             0.0       0.0       0.0       0.0       0.0       0.0       0.0   \n",
       "\n",
       "item_id  818980    818981    819063    ...  15926886  15926887  15926927  \\\n",
       "user_id                                ...                                 \n",
       "1             0.0       0.0       0.0  ...       0.0       0.0       2.0   \n",
       "2             0.0       0.0       0.0  ...       0.0       0.0       0.0   \n",
       "\n",
       "item_id  15927033  15927403  15927661  15927850  15972298  16809471  17105257  \n",
       "user_id                                                                        \n",
       "1             0.0       0.0       0.0       0.0       0.0       0.0       0.0  \n",
       "2             0.0       0.0       0.0       0.0       0.0       0.0       0.0  \n",
       "\n",
       "[2 rows x 6001 columns]"
      ]
     },
     "execution_count": 40,
     "metadata": {},
     "output_type": "execute_result"
    }
   ],
   "source": [
    "user_item_matrix = main_rec_6000._prepare_matrix(data_train_6000)\n",
    "sparse_user_item = csr_matrix(user_item_matrix).tocsr()\n",
    "user_item_matrix.head(2)"
   ]
  },
  {
   "cell_type": "code",
   "execution_count": 41,
   "id": "7ec600d2",
   "metadata": {},
   "outputs": [
    {
     "data": {
      "application/vnd.jupyter.widget-view+json": {
       "model_id": "94aad0845278489b8bee33ae97af0c23",
       "version_major": 2,
       "version_minor": 0
      },
      "text/plain": [
       "  0%|          | 0/6001 [00:00<?, ?it/s]"
      ]
     },
     "metadata": {},
     "output_type": "display_data"
    },
    {
     "data": {
      "text/plain": [
       "<implicit.nearest_neighbours.ItemItemRecommender at 0x1690636b940>"
      ]
     },
     "execution_count": 41,
     "metadata": {},
     "output_type": "execute_result"
    }
   ],
   "source": [
    "main_rec_6000.fit_own_recommender(sparse_user_item)"
   ]
  },
  {
   "cell_type": "code",
   "execution_count": 42,
   "id": "89b233c4",
   "metadata": {},
   "outputs": [
    {
     "data": {
      "application/vnd.jupyter.widget-view+json": {
       "model_id": "54b84411bc424e23a723952c33aa52da",
       "version_major": 2,
       "version_minor": 0
      },
      "text/plain": [
       "  0%|          | 0/15 [00:00<?, ?it/s]"
      ]
     },
     "metadata": {},
     "output_type": "display_data"
    },
    {
     "data": {
      "text/plain": [
       "<implicit.cpu.als.AlternatingLeastSquares at 0x1690637b130>"
      ]
     },
     "execution_count": 42,
     "metadata": {},
     "output_type": "execute_result"
    }
   ],
   "source": [
    "main_rec_6000.fit(sparse_user_item, n_factors=20, regularization=0.01, iterations=15, num_threads=4)"
   ]
  },
  {
   "cell_type": "code",
   "execution_count": 43,
   "id": "2e67d990",
   "metadata": {},
   "outputs": [],
   "source": [
    "result['ItemItem_6000'] = result['user_id'].apply(lambda x: main_rec_6000.get_own_recommendations(x, N=5))"
   ]
  },
  {
   "cell_type": "code",
   "execution_count": 44,
   "id": "0a3bae82",
   "metadata": {},
   "outputs": [],
   "source": [
    "result['ALS_6000'] = result['user_id'].apply(lambda x: main_rec_6000.get_als_recommendations(x, N=5))"
   ]
  },
  {
   "cell_type": "code",
   "execution_count": 45,
   "id": "51dfa4df",
   "metadata": {},
   "outputs": [
    {
     "data": {
      "text/plain": [
       "0.30397877984084765"
      ]
     },
     "execution_count": 45,
     "metadata": {},
     "output_type": "execute_result"
    }
   ],
   "source": [
    "result.apply(lambda row: precision_at_k(row['ItemItem_6000'], row['actual']), axis=1).mean()"
   ]
  },
  {
   "cell_type": "code",
   "execution_count": 46,
   "id": "1ebcaba4",
   "metadata": {},
   "outputs": [
    {
     "data": {
      "text/plain": [
       "0.20625994694959912"
      ]
     },
     "execution_count": 46,
     "metadata": {},
     "output_type": "execute_result"
    }
   ],
   "source": [
    "result.apply(lambda row: precision_at_k(row['ALS_6000'], row['actual']), axis=1).mean()"
   ]
  },
  {
   "cell_type": "code",
   "execution_count": 47,
   "id": "58659822",
   "metadata": {},
   "outputs": [
    {
     "data": {
      "text/plain": [
       "0.05401002670641507"
      ]
     },
     "execution_count": 47,
     "metadata": {},
     "output_type": "execute_result"
    }
   ],
   "source": [
    "result.apply(lambda row: recall_at_k(row['ItemItem_6000'], row['actual']), axis=1).mean()"
   ]
  },
  {
   "cell_type": "code",
   "execution_count": 48,
   "id": "d58f7210",
   "metadata": {},
   "outputs": [
    {
     "data": {
      "text/plain": [
       "0.03862338169043611"
      ]
     },
     "execution_count": 48,
     "metadata": {},
     "output_type": "execute_result"
    }
   ],
   "source": [
    "result.apply(lambda row: recall_at_k(row['ALS_6000'], row['actual']), axis=1).mean()"
   ]
  },
  {
   "cell_type": "code",
   "execution_count": 49,
   "id": "74f3c304",
   "metadata": {},
   "outputs": [
    {
     "data": {
      "text/plain": [
       "0.22461892130857647"
      ]
     },
     "execution_count": 49,
     "metadata": {},
     "output_type": "execute_result"
    }
   ],
   "source": [
    "result.apply(lambda row: ap_k(row['ItemItem_6000'], row['actual']), axis=1).mean()"
   ]
  },
  {
   "cell_type": "code",
   "execution_count": 50,
   "id": "81bdcbc5",
   "metadata": {},
   "outputs": [
    {
     "data": {
      "text/plain": [
       "0.13764456233421668"
      ]
     },
     "execution_count": 50,
     "metadata": {},
     "output_type": "execute_result"
    }
   ],
   "source": [
    "result.apply(lambda row: ap_k(row['ALS_6000'], row['actual']), axis=1).mean()"
   ]
  },
  {
   "cell_type": "markdown",
   "id": "976ac93d",
   "metadata": {},
   "source": [
    "#### Изменения количество топ товаров сильно не влиеет на качество предсказаний, попробуем добавить еще фильтацию по популярности, а также по цене товара"
   ]
  },
  {
   "cell_type": "code",
   "execution_count": 51,
   "id": "6af7dfaa",
   "metadata": {},
   "outputs": [
    {
     "data": {
      "text/html": [
       "<div>\n",
       "<style scoped>\n",
       "    .dataframe tbody tr th:only-of-type {\n",
       "        vertical-align: middle;\n",
       "    }\n",
       "\n",
       "    .dataframe tbody tr th {\n",
       "        vertical-align: top;\n",
       "    }\n",
       "\n",
       "    .dataframe thead th {\n",
       "        text-align: right;\n",
       "    }\n",
       "</style>\n",
       "<table border=\"1\" class=\"dataframe\">\n",
       "  <thead>\n",
       "    <tr style=\"text-align: right;\">\n",
       "      <th></th>\n",
       "      <th>It_It_5000</th>\n",
       "      <th>ALS_5000</th>\n",
       "      <th>It_It_3000</th>\n",
       "      <th>ALS_3000</th>\n",
       "      <th>It_It_6000</th>\n",
       "      <th>ALS_6000</th>\n",
       "      <th>It_It_pop</th>\n",
       "      <th>ALS_pop</th>\n",
       "    </tr>\n",
       "  </thead>\n",
       "  <tbody>\n",
       "    <tr>\n",
       "      <th>precision</th>\n",
       "      <td>0.235</td>\n",
       "      <td>0.1728</td>\n",
       "      <td>0.2348</td>\n",
       "      <td>0.1725</td>\n",
       "      <td>0.2346</td>\n",
       "      <td>0.1732</td>\n",
       "      <td>0.735</td>\n",
       "      <td>0.820</td>\n",
       "    </tr>\n",
       "    <tr>\n",
       "      <th>recall</th>\n",
       "      <td>0.042</td>\n",
       "      <td>0.0330</td>\n",
       "      <td>0.0423</td>\n",
       "      <td>0.0327</td>\n",
       "      <td>0.0422</td>\n",
       "      <td>0.0333</td>\n",
       "      <td>0.012</td>\n",
       "      <td>0.014</td>\n",
       "    </tr>\n",
       "    <tr>\n",
       "      <th>MAP</th>\n",
       "      <td>0.161</td>\n",
       "      <td>0.1080</td>\n",
       "      <td>0.1608</td>\n",
       "      <td>0.1096</td>\n",
       "      <td>0.1608</td>\n",
       "      <td>0.1092</td>\n",
       "      <td>0.030</td>\n",
       "      <td>0.460</td>\n",
       "    </tr>\n",
       "  </tbody>\n",
       "</table>\n",
       "</div>"
      ],
      "text/plain": [
       "           It_It_5000  ALS_5000  It_It_3000  ALS_3000  It_It_6000  ALS_6000  \\\n",
       "precision       0.235    0.1728      0.2348    0.1725      0.2346    0.1732   \n",
       "recall          0.042    0.0330      0.0423    0.0327      0.0422    0.0333   \n",
       "MAP             0.161    0.1080      0.1608    0.1096      0.1608    0.1092   \n",
       "\n",
       "           It_It_pop  ALS_pop  \n",
       "precision      0.735    0.820  \n",
       "recall         0.012    0.014  \n",
       "MAP            0.030    0.460  "
      ]
     },
     "execution_count": 51,
     "metadata": {},
     "output_type": "execute_result"
    }
   ],
   "source": [
    "data = {'precision':[0.235, 0.1728, 0.2348, 0.1725, 0.2346, 0.1732, 0.0735, 0.082 ],\n",
    "        'recall': [0.042, 0.033, 0.0423, 0.0327, 0.0422, 0.0333, 0.012, 0.014],\n",
    "        'MAP': [0.161, 0.108, 0.1608, 0.1096, 0.1608, 0.1092, 0.03, 0.46]}\n",
    "ind = ['It_It_5000', 'ALS_5000', 'It_It_3000', 'ALS_3000', 'It_It_6000', 'ALS_6000', 'It_It_pop', 'ALS_pop']\n",
    "metrics = pd.DataFrame(data, index = ind)\n",
    "metrics.T"
   ]
  },
  {
   "cell_type": "markdown",
   "id": "c19828e4",
   "metadata": {},
   "source": [
    "Метрики сильно ухудшились, возвращаемся к первоначальному варианту"
   ]
  },
  {
   "cell_type": "markdown",
   "id": "4007cf72",
   "metadata": {},
   "source": [
    "### Прологарифмируем количество покупок пользователем"
   ]
  },
  {
   "cell_type": "code",
   "execution_count": 52,
   "id": "13dbbfa8",
   "metadata": {},
   "outputs": [],
   "source": [
    "data_train = pd.read_csv('retail_train.csv')"
   ]
  },
  {
   "cell_type": "code",
   "execution_count": 53,
   "id": "de630956",
   "metadata": {},
   "outputs": [
    {
     "name": "stdout",
     "output_type": "stream",
     "text": [
      "Decreased # items from 89051 to 5001\n"
     ]
    }
   ],
   "source": [
    "take_n_popular = 5000\n",
    "n_items_before = data_train['item_id'].nunique()\n",
    "data_train = prefilter(data_train, take_n_popular, item_features)\n",
    "n_items_after = data_train['item_id'].nunique()\n",
    "print('Decreased # items from {} to {}'.format(n_items_before, n_items_after))"
   ]
  },
  {
   "cell_type": "code",
   "execution_count": 54,
   "id": "f2c47690",
   "metadata": {},
   "outputs": [
    {
     "data": {
      "application/vnd.jupyter.widget-view+json": {
       "model_id": "97ded0007b7b4fe29a486dfa1d512b6a",
       "version_major": 2,
       "version_minor": 0
      },
      "text/plain": [
       "  0%|          | 0/50 [00:00<?, ?it/s]"
      ]
     },
     "metadata": {},
     "output_type": "display_data"
    },
    {
     "data": {
      "application/vnd.jupyter.widget-view+json": {
       "model_id": "d8373ad1912c43a6b2ba9098e4dc7f82",
       "version_major": 2,
       "version_minor": 0
      },
      "text/plain": [
       "  0%|          | 0/5001 [00:00<?, ?it/s]"
      ]
     },
     "metadata": {},
     "output_type": "display_data"
    }
   ],
   "source": [
    "main_rec = MainRecommender(data_train)"
   ]
  },
  {
   "cell_type": "code",
   "execution_count": 55,
   "id": "b3e2a5d8",
   "metadata": {},
   "outputs": [
    {
     "data": {
      "text/html": [
       "<div>\n",
       "<style scoped>\n",
       "    .dataframe tbody tr th:only-of-type {\n",
       "        vertical-align: middle;\n",
       "    }\n",
       "\n",
       "    .dataframe tbody tr th {\n",
       "        vertical-align: top;\n",
       "    }\n",
       "\n",
       "    .dataframe thead th {\n",
       "        text-align: right;\n",
       "    }\n",
       "</style>\n",
       "<table border=\"1\" class=\"dataframe\">\n",
       "  <thead>\n",
       "    <tr style=\"text-align: right;\">\n",
       "      <th>item_id</th>\n",
       "      <th>202291</th>\n",
       "      <th>397896</th>\n",
       "      <th>420647</th>\n",
       "      <th>480014</th>\n",
       "      <th>545926</th>\n",
       "      <th>707683</th>\n",
       "      <th>731106</th>\n",
       "      <th>818980</th>\n",
       "      <th>819063</th>\n",
       "      <th>819227</th>\n",
       "      <th>...</th>\n",
       "      <th>15926775</th>\n",
       "      <th>15926844</th>\n",
       "      <th>15926885</th>\n",
       "      <th>15926886</th>\n",
       "      <th>15926927</th>\n",
       "      <th>15927403</th>\n",
       "      <th>15927661</th>\n",
       "      <th>15927850</th>\n",
       "      <th>16809471</th>\n",
       "      <th>17105257</th>\n",
       "    </tr>\n",
       "    <tr>\n",
       "      <th>user_id</th>\n",
       "      <th></th>\n",
       "      <th></th>\n",
       "      <th></th>\n",
       "      <th></th>\n",
       "      <th></th>\n",
       "      <th></th>\n",
       "      <th></th>\n",
       "      <th></th>\n",
       "      <th></th>\n",
       "      <th></th>\n",
       "      <th></th>\n",
       "      <th></th>\n",
       "      <th></th>\n",
       "      <th></th>\n",
       "      <th></th>\n",
       "      <th></th>\n",
       "      <th></th>\n",
       "      <th></th>\n",
       "      <th></th>\n",
       "      <th></th>\n",
       "      <th></th>\n",
       "    </tr>\n",
       "  </thead>\n",
       "  <tbody>\n",
       "    <tr>\n",
       "      <th>1</th>\n",
       "      <td>0.0</td>\n",
       "      <td>0.0</td>\n",
       "      <td>0.0</td>\n",
       "      <td>0.0</td>\n",
       "      <td>0.0</td>\n",
       "      <td>0.0</td>\n",
       "      <td>0.0</td>\n",
       "      <td>0.0</td>\n",
       "      <td>0.0</td>\n",
       "      <td>0.0</td>\n",
       "      <td>...</td>\n",
       "      <td>0.0</td>\n",
       "      <td>1.0</td>\n",
       "      <td>0.0</td>\n",
       "      <td>0.0</td>\n",
       "      <td>2.0</td>\n",
       "      <td>0.0</td>\n",
       "      <td>0.0</td>\n",
       "      <td>0.0</td>\n",
       "      <td>0.0</td>\n",
       "      <td>0.0</td>\n",
       "    </tr>\n",
       "    <tr>\n",
       "      <th>2</th>\n",
       "      <td>0.0</td>\n",
       "      <td>0.0</td>\n",
       "      <td>0.0</td>\n",
       "      <td>0.0</td>\n",
       "      <td>0.0</td>\n",
       "      <td>0.0</td>\n",
       "      <td>0.0</td>\n",
       "      <td>0.0</td>\n",
       "      <td>0.0</td>\n",
       "      <td>0.0</td>\n",
       "      <td>...</td>\n",
       "      <td>0.0</td>\n",
       "      <td>0.0</td>\n",
       "      <td>0.0</td>\n",
       "      <td>0.0</td>\n",
       "      <td>0.0</td>\n",
       "      <td>0.0</td>\n",
       "      <td>0.0</td>\n",
       "      <td>0.0</td>\n",
       "      <td>0.0</td>\n",
       "      <td>0.0</td>\n",
       "    </tr>\n",
       "  </tbody>\n",
       "</table>\n",
       "<p>2 rows × 5001 columns</p>\n",
       "</div>"
      ],
      "text/plain": [
       "item_id  202291    397896    420647    480014    545926    707683    731106    \\\n",
       "user_id                                                                         \n",
       "1             0.0       0.0       0.0       0.0       0.0       0.0       0.0   \n",
       "2             0.0       0.0       0.0       0.0       0.0       0.0       0.0   \n",
       "\n",
       "item_id  818980    819063    819227    ...  15926775  15926844  15926885  \\\n",
       "user_id                                ...                                 \n",
       "1             0.0       0.0       0.0  ...       0.0       1.0       0.0   \n",
       "2             0.0       0.0       0.0  ...       0.0       0.0       0.0   \n",
       "\n",
       "item_id  15926886  15926927  15927403  15927661  15927850  16809471  17105257  \n",
       "user_id                                                                        \n",
       "1             0.0       2.0       0.0       0.0       0.0       0.0       0.0  \n",
       "2             0.0       0.0       0.0       0.0       0.0       0.0       0.0  \n",
       "\n",
       "[2 rows x 5001 columns]"
      ]
     },
     "execution_count": 55,
     "metadata": {},
     "output_type": "execute_result"
    }
   ],
   "source": [
    "user_item_matrix = main_rec._prepare_matrix(data_train)\n",
    "user_item_matrix.head(2)"
   ]
  },
  {
   "cell_type": "code",
   "execution_count": 56,
   "id": "38b20f76",
   "metadata": {},
   "outputs": [],
   "source": [
    "user_item_matrix = np.log(user_item_matrix+1)"
   ]
  },
  {
   "cell_type": "code",
   "execution_count": 57,
   "id": "23f42e81",
   "metadata": {},
   "outputs": [
    {
     "data": {
      "text/html": [
       "<div>\n",
       "<style scoped>\n",
       "    .dataframe tbody tr th:only-of-type {\n",
       "        vertical-align: middle;\n",
       "    }\n",
       "\n",
       "    .dataframe tbody tr th {\n",
       "        vertical-align: top;\n",
       "    }\n",
       "\n",
       "    .dataframe thead th {\n",
       "        text-align: right;\n",
       "    }\n",
       "</style>\n",
       "<table border=\"1\" class=\"dataframe\">\n",
       "  <thead>\n",
       "    <tr style=\"text-align: right;\">\n",
       "      <th>item_id</th>\n",
       "      <th>202291</th>\n",
       "      <th>397896</th>\n",
       "      <th>420647</th>\n",
       "      <th>480014</th>\n",
       "      <th>545926</th>\n",
       "      <th>707683</th>\n",
       "      <th>731106</th>\n",
       "      <th>818980</th>\n",
       "      <th>819063</th>\n",
       "      <th>819227</th>\n",
       "      <th>...</th>\n",
       "      <th>15926775</th>\n",
       "      <th>15926844</th>\n",
       "      <th>15926885</th>\n",
       "      <th>15926886</th>\n",
       "      <th>15926927</th>\n",
       "      <th>15927403</th>\n",
       "      <th>15927661</th>\n",
       "      <th>15927850</th>\n",
       "      <th>16809471</th>\n",
       "      <th>17105257</th>\n",
       "    </tr>\n",
       "    <tr>\n",
       "      <th>user_id</th>\n",
       "      <th></th>\n",
       "      <th></th>\n",
       "      <th></th>\n",
       "      <th></th>\n",
       "      <th></th>\n",
       "      <th></th>\n",
       "      <th></th>\n",
       "      <th></th>\n",
       "      <th></th>\n",
       "      <th></th>\n",
       "      <th></th>\n",
       "      <th></th>\n",
       "      <th></th>\n",
       "      <th></th>\n",
       "      <th></th>\n",
       "      <th></th>\n",
       "      <th></th>\n",
       "      <th></th>\n",
       "      <th></th>\n",
       "      <th></th>\n",
       "      <th></th>\n",
       "    </tr>\n",
       "  </thead>\n",
       "  <tbody>\n",
       "    <tr>\n",
       "      <th>1</th>\n",
       "      <td>0.0</td>\n",
       "      <td>0.0</td>\n",
       "      <td>0.0</td>\n",
       "      <td>0.0</td>\n",
       "      <td>0.0</td>\n",
       "      <td>0.0</td>\n",
       "      <td>0.0</td>\n",
       "      <td>0.0</td>\n",
       "      <td>0.0</td>\n",
       "      <td>0.0</td>\n",
       "      <td>...</td>\n",
       "      <td>0.0</td>\n",
       "      <td>0.693147</td>\n",
       "      <td>0.0</td>\n",
       "      <td>0.0</td>\n",
       "      <td>1.098612</td>\n",
       "      <td>0.0</td>\n",
       "      <td>0.0</td>\n",
       "      <td>0.0</td>\n",
       "      <td>0.0</td>\n",
       "      <td>0.0</td>\n",
       "    </tr>\n",
       "    <tr>\n",
       "      <th>2</th>\n",
       "      <td>0.0</td>\n",
       "      <td>0.0</td>\n",
       "      <td>0.0</td>\n",
       "      <td>0.0</td>\n",
       "      <td>0.0</td>\n",
       "      <td>0.0</td>\n",
       "      <td>0.0</td>\n",
       "      <td>0.0</td>\n",
       "      <td>0.0</td>\n",
       "      <td>0.0</td>\n",
       "      <td>...</td>\n",
       "      <td>0.0</td>\n",
       "      <td>0.000000</td>\n",
       "      <td>0.0</td>\n",
       "      <td>0.0</td>\n",
       "      <td>0.000000</td>\n",
       "      <td>0.0</td>\n",
       "      <td>0.0</td>\n",
       "      <td>0.0</td>\n",
       "      <td>0.0</td>\n",
       "      <td>0.0</td>\n",
       "    </tr>\n",
       "  </tbody>\n",
       "</table>\n",
       "<p>2 rows × 5001 columns</p>\n",
       "</div>"
      ],
      "text/plain": [
       "item_id  202291    397896    420647    480014    545926    707683    731106    \\\n",
       "user_id                                                                         \n",
       "1             0.0       0.0       0.0       0.0       0.0       0.0       0.0   \n",
       "2             0.0       0.0       0.0       0.0       0.0       0.0       0.0   \n",
       "\n",
       "item_id  818980    819063    819227    ...  15926775  15926844  15926885  \\\n",
       "user_id                                ...                                 \n",
       "1             0.0       0.0       0.0  ...       0.0  0.693147       0.0   \n",
       "2             0.0       0.0       0.0  ...       0.0  0.000000       0.0   \n",
       "\n",
       "item_id  15926886  15926927  15927403  15927661  15927850  16809471  17105257  \n",
       "user_id                                                                        \n",
       "1             0.0  1.098612       0.0       0.0       0.0       0.0       0.0  \n",
       "2             0.0  0.000000       0.0       0.0       0.0       0.0       0.0  \n",
       "\n",
       "[2 rows x 5001 columns]"
      ]
     },
     "execution_count": 57,
     "metadata": {},
     "output_type": "execute_result"
    }
   ],
   "source": [
    "sparse_user_item = csr_matrix(user_item_matrix).tocsr()\n",
    "user_item_matrix.head(2)"
   ]
  },
  {
   "cell_type": "code",
   "execution_count": 58,
   "id": "f0ce4a32",
   "metadata": {},
   "outputs": [
    {
     "data": {
      "application/vnd.jupyter.widget-view+json": {
       "model_id": "f797ecf8f0724992af49f9585773c2f9",
       "version_major": 2,
       "version_minor": 0
      },
      "text/plain": [
       "  0%|          | 0/5001 [00:00<?, ?it/s]"
      ]
     },
     "metadata": {},
     "output_type": "display_data"
    },
    {
     "data": {
      "text/plain": [
       "<implicit.nearest_neighbours.ItemItemRecommender at 0x16906d526a0>"
      ]
     },
     "execution_count": 58,
     "metadata": {},
     "output_type": "execute_result"
    }
   ],
   "source": [
    "main_rec.fit_own_recommender(sparse_user_item)"
   ]
  },
  {
   "cell_type": "code",
   "execution_count": 59,
   "id": "cb6c6b0f",
   "metadata": {},
   "outputs": [
    {
     "data": {
      "application/vnd.jupyter.widget-view+json": {
       "model_id": "9458a9a3923e4a45b730f4f7928704c1",
       "version_major": 2,
       "version_minor": 0
      },
      "text/plain": [
       "  0%|          | 0/15 [00:00<?, ?it/s]"
      ]
     },
     "metadata": {},
     "output_type": "display_data"
    },
    {
     "data": {
      "text/plain": [
       "<implicit.cpu.als.AlternatingLeastSquares at 0x16906d5a220>"
      ]
     },
     "execution_count": 59,
     "metadata": {},
     "output_type": "execute_result"
    }
   ],
   "source": [
    "main_rec.fit(sparse_user_item, n_factors=20, regularization=0.01, iterations=15, num_threads=4)"
   ]
  },
  {
   "cell_type": "code",
   "execution_count": 60,
   "id": "3f4cadfa",
   "metadata": {},
   "outputs": [],
   "source": [
    "result['ItemItem_log'] = result['user_id'].apply(lambda x: main_rec.get_own_recommendations(x, N=5))"
   ]
  },
  {
   "cell_type": "code",
   "execution_count": 61,
   "id": "0de3fed1",
   "metadata": {},
   "outputs": [],
   "source": [
    "result['ALS_log'] = result['user_id'].apply(lambda x: main_rec.get_als_recommendations(x, N=5))"
   ]
  },
  {
   "cell_type": "code",
   "execution_count": 62,
   "id": "a541e296",
   "metadata": {},
   "outputs": [
    {
     "data": {
      "text/plain": [
       "0.31883289124668374"
      ]
     },
     "execution_count": 62,
     "metadata": {},
     "output_type": "execute_result"
    }
   ],
   "source": [
    "result.apply(lambda row: precision_at_k(row['ItemItem_log'], row['actual']), axis=1).mean()"
   ]
  },
  {
   "cell_type": "code",
   "execution_count": 63,
   "id": "66faca48",
   "metadata": {},
   "outputs": [
    {
     "data": {
      "text/plain": [
       "0.20456233421750364"
      ]
     },
     "execution_count": 63,
     "metadata": {},
     "output_type": "execute_result"
    }
   ],
   "source": [
    "result.apply(lambda row: precision_at_k(row['ALS_log'], row['actual']), axis=1).mean()"
   ]
  },
  {
   "cell_type": "code",
   "execution_count": 64,
   "id": "5a0529f6",
   "metadata": {
    "scrolled": true
   },
   "outputs": [
    {
     "data": {
      "text/plain": [
       "0.05591649194368882"
      ]
     },
     "execution_count": 64,
     "metadata": {},
     "output_type": "execute_result"
    }
   ],
   "source": [
    "result.apply(lambda row: recall_at_k(row['ItemItem_log'], row['actual']), axis=1).mean()"
   ]
  },
  {
   "cell_type": "code",
   "execution_count": 65,
   "id": "b01c1df8",
   "metadata": {},
   "outputs": [
    {
     "data": {
      "text/plain": [
       "0.03807255149508351"
      ]
     },
     "execution_count": 65,
     "metadata": {},
     "output_type": "execute_result"
    }
   ],
   "source": [
    "result.apply(lambda row: recall_at_k(row['ALS_log'], row['actual']), axis=1).mean()"
   ]
  },
  {
   "cell_type": "code",
   "execution_count": 66,
   "id": "4878df17",
   "metadata": {},
   "outputs": [
    {
     "data": {
      "text/plain": [
       "0.24072855879752428"
      ]
     },
     "execution_count": 66,
     "metadata": {},
     "output_type": "execute_result"
    }
   ],
   "source": [
    "result.apply(lambda row: ap_k(row['ItemItem_log'], row['actual']), axis=1).mean()"
   ]
  },
  {
   "cell_type": "code",
   "execution_count": 67,
   "id": "8a63dc0f",
   "metadata": {},
   "outputs": [
    {
     "data": {
      "text/plain": [
       "0.13490716180371293"
      ]
     },
     "execution_count": 67,
     "metadata": {},
     "output_type": "execute_result"
    }
   ],
   "source": [
    "result.apply(lambda row: ap_k(row['ALS_log'], row['actual']), axis=1).mean()"
   ]
  },
  {
   "cell_type": "code",
   "execution_count": 68,
   "id": "457651f9",
   "metadata": {},
   "outputs": [
    {
     "data": {
      "text/html": [
       "<div>\n",
       "<style scoped>\n",
       "    .dataframe tbody tr th:only-of-type {\n",
       "        vertical-align: middle;\n",
       "    }\n",
       "\n",
       "    .dataframe tbody tr th {\n",
       "        vertical-align: top;\n",
       "    }\n",
       "\n",
       "    .dataframe thead th {\n",
       "        text-align: right;\n",
       "    }\n",
       "</style>\n",
       "<table border=\"1\" class=\"dataframe\">\n",
       "  <thead>\n",
       "    <tr style=\"text-align: right;\">\n",
       "      <th></th>\n",
       "      <th>It_It_5000</th>\n",
       "      <th>ALS_5000</th>\n",
       "      <th>It_It_3000</th>\n",
       "      <th>ALS_3000</th>\n",
       "      <th>It_It_6000</th>\n",
       "      <th>ALS_6000</th>\n",
       "      <th>It_It_pop</th>\n",
       "      <th>ALS_pop</th>\n",
       "      <th>It_It_log</th>\n",
       "      <th>ALS_log</th>\n",
       "    </tr>\n",
       "  </thead>\n",
       "  <tbody>\n",
       "    <tr>\n",
       "      <th>precision</th>\n",
       "      <td>0.235</td>\n",
       "      <td>0.1728</td>\n",
       "      <td>0.2348</td>\n",
       "      <td>0.1725</td>\n",
       "      <td>0.2346</td>\n",
       "      <td>0.1732</td>\n",
       "      <td>0.0735</td>\n",
       "      <td>0.082</td>\n",
       "      <td>0.1936</td>\n",
       "      <td>0.17200</td>\n",
       "    </tr>\n",
       "    <tr>\n",
       "      <th>recall</th>\n",
       "      <td>0.042</td>\n",
       "      <td>0.0330</td>\n",
       "      <td>0.0423</td>\n",
       "      <td>0.0327</td>\n",
       "      <td>0.0422</td>\n",
       "      <td>0.0333</td>\n",
       "      <td>0.0120</td>\n",
       "      <td>0.014</td>\n",
       "      <td>0.0328</td>\n",
       "      <td>0.03241</td>\n",
       "    </tr>\n",
       "    <tr>\n",
       "      <th>MAP</th>\n",
       "      <td>0.161</td>\n",
       "      <td>0.1080</td>\n",
       "      <td>0.1608</td>\n",
       "      <td>0.1096</td>\n",
       "      <td>0.1608</td>\n",
       "      <td>0.1092</td>\n",
       "      <td>0.0300</td>\n",
       "      <td>0.046</td>\n",
       "      <td>0.1420</td>\n",
       "      <td>0.10890</td>\n",
       "    </tr>\n",
       "  </tbody>\n",
       "</table>\n",
       "</div>"
      ],
      "text/plain": [
       "           It_It_5000  ALS_5000  It_It_3000  ALS_3000  It_It_6000  ALS_6000  \\\n",
       "precision       0.235    0.1728      0.2348    0.1725      0.2346    0.1732   \n",
       "recall          0.042    0.0330      0.0423    0.0327      0.0422    0.0333   \n",
       "MAP             0.161    0.1080      0.1608    0.1096      0.1608    0.1092   \n",
       "\n",
       "           It_It_pop  ALS_pop  It_It_log  ALS_log  \n",
       "precision     0.0735    0.082     0.1936  0.17200  \n",
       "recall        0.0120    0.014     0.0328  0.03241  \n",
       "MAP           0.0300    0.046     0.1420  0.10890  "
      ]
     },
     "execution_count": 68,
     "metadata": {},
     "output_type": "execute_result"
    }
   ],
   "source": [
    "data = {'precision':[0.235, 0.1728, 0.2348, 0.1725, 0.2346, 0.1732, 0.0735, 0.082, 0.1936, 0.172],\n",
    "        'recall': [0.042, 0.033, 0.0423, 0.0327, 0.0422, 0.0333, 0.012, 0.014, 0.0328, 0.03241],\n",
    "        'MAP': [0.161, 0.108, 0.1608, 0.1096, 0.1608, 0.1092, 0.03, 0.046, 0.142, 0.1089]}\n",
    "ind = ['It_It_5000', 'ALS_5000', 'It_It_3000', 'ALS_3000', 'It_It_6000', 'ALS_6000', 'It_It_pop', 'ALS_pop',\n",
    "       'It_It_log', 'ALS_log']\n",
    "metrics = pd.DataFrame(data, index = ind)\n",
    "metrics.T"
   ]
  },
  {
   "cell_type": "markdown",
   "id": "cfcd7bbf",
   "metadata": {},
   "source": [
    "Составим item-user матрицу на основе суммы покупок"
   ]
  },
  {
   "cell_type": "code",
   "execution_count": 69,
   "id": "68fdb824",
   "metadata": {},
   "outputs": [
    {
     "data": {
      "text/html": [
       "<div>\n",
       "<style scoped>\n",
       "    .dataframe tbody tr th:only-of-type {\n",
       "        vertical-align: middle;\n",
       "    }\n",
       "\n",
       "    .dataframe tbody tr th {\n",
       "        vertical-align: top;\n",
       "    }\n",
       "\n",
       "    .dataframe thead th {\n",
       "        text-align: right;\n",
       "    }\n",
       "</style>\n",
       "<table border=\"1\" class=\"dataframe\">\n",
       "  <thead>\n",
       "    <tr style=\"text-align: right;\">\n",
       "      <th></th>\n",
       "      <th>It_It_5000</th>\n",
       "      <th>ALS_5000</th>\n",
       "      <th>It_It_3000</th>\n",
       "      <th>ALS_3000</th>\n",
       "      <th>It_It_6000</th>\n",
       "      <th>ALS_6000</th>\n",
       "      <th>It_It_log</th>\n",
       "      <th>ALS_log</th>\n",
       "    </tr>\n",
       "  </thead>\n",
       "  <tbody>\n",
       "    <tr>\n",
       "      <th>precision</th>\n",
       "      <td>0.1935</td>\n",
       "      <td>0.1180</td>\n",
       "      <td>0.1935</td>\n",
       "      <td>0.1170</td>\n",
       "      <td>0.1935</td>\n",
       "      <td>0.1190</td>\n",
       "      <td>0.1935</td>\n",
       "      <td>0.1150</td>\n",
       "    </tr>\n",
       "    <tr>\n",
       "      <th>recall</th>\n",
       "      <td>0.0349</td>\n",
       "      <td>0.0264</td>\n",
       "      <td>0.0348</td>\n",
       "      <td>0.0271</td>\n",
       "      <td>0.0348</td>\n",
       "      <td>0.0263</td>\n",
       "      <td>0.0349</td>\n",
       "      <td>0.0265</td>\n",
       "    </tr>\n",
       "    <tr>\n",
       "      <th>MAP</th>\n",
       "      <td>0.1423</td>\n",
       "      <td>0.0615</td>\n",
       "      <td>0.1423</td>\n",
       "      <td>0.0620</td>\n",
       "      <td>0.1423</td>\n",
       "      <td>0.0623</td>\n",
       "      <td>0.1423</td>\n",
       "      <td>0.0620</td>\n",
       "    </tr>\n",
       "  </tbody>\n",
       "</table>\n",
       "</div>"
      ],
      "text/plain": [
       "           It_It_5000  ALS_5000  It_It_3000  ALS_3000  It_It_6000  ALS_6000  \\\n",
       "precision      0.1935    0.1180      0.1935    0.1170      0.1935    0.1190   \n",
       "recall         0.0349    0.0264      0.0348    0.0271      0.0348    0.0263   \n",
       "MAP            0.1423    0.0615      0.1423    0.0620      0.1423    0.0623   \n",
       "\n",
       "           It_It_log  ALS_log  \n",
       "precision     0.1935   0.1150  \n",
       "recall        0.0349   0.0265  \n",
       "MAP           0.1423   0.0620  "
      ]
     },
     "execution_count": 69,
     "metadata": {},
     "output_type": "execute_result"
    }
   ],
   "source": [
    "data_sum = {'precision':[0.1935, 0.118, 0.1935, 0.117, 0.1935, 0.119, 0.1935, 0.115],\n",
    "        'recall': [0.0349, 0.0264, 0.0348, 0.0271, 0.0348, 0.0263, 0.0349, 0.0265],\n",
    "        'MAP': [0.1423, 0.0615, 0.1423, 0.0620, 0.1423, 0.0623, 0.1423, 0.062]}\n",
    "ind = ['It_It_5000', 'ALS_5000', 'It_It_3000', 'ALS_3000', 'It_It_6000', 'ALS_6000', 'It_It_log', 'ALS_log']\n",
    "metrics = pd.DataFrame(data_sum, index = ind)\n",
    "metrics.T"
   ]
  },
  {
   "cell_type": "markdown",
   "id": "d3335d4a",
   "metadata": {},
   "source": [
    "Добавим Взвешиванние \"bm25\""
   ]
  },
  {
   "cell_type": "code",
   "execution_count": 70,
   "id": "1d0330f4",
   "metadata": {},
   "outputs": [
    {
     "data": {
      "text/html": [
       "<div>\n",
       "<style scoped>\n",
       "    .dataframe tbody tr th:only-of-type {\n",
       "        vertical-align: middle;\n",
       "    }\n",
       "\n",
       "    .dataframe tbody tr th {\n",
       "        vertical-align: top;\n",
       "    }\n",
       "\n",
       "    .dataframe thead th {\n",
       "        text-align: right;\n",
       "    }\n",
       "</style>\n",
       "<table border=\"1\" class=\"dataframe\">\n",
       "  <thead>\n",
       "    <tr style=\"text-align: right;\">\n",
       "      <th></th>\n",
       "      <th>It_It_5000</th>\n",
       "      <th>ALS_5000</th>\n",
       "      <th>It_It_3000</th>\n",
       "      <th>ALS_3000</th>\n",
       "      <th>It_It_6000</th>\n",
       "      <th>ALS_6000</th>\n",
       "      <th>It_It_log</th>\n",
       "      <th>ALS_log</th>\n",
       "    </tr>\n",
       "  </thead>\n",
       "  <tbody>\n",
       "    <tr>\n",
       "      <th>precision</th>\n",
       "      <td>0.23720</td>\n",
       "      <td>0.17411</td>\n",
       "      <td>0.3166</td>\n",
       "      <td>0.16722</td>\n",
       "      <td>0.2251</td>\n",
       "      <td>0.1765</td>\n",
       "      <td>0.2372</td>\n",
       "      <td>0.1709</td>\n",
       "    </tr>\n",
       "    <tr>\n",
       "      <th>recall</th>\n",
       "      <td>0.04239</td>\n",
       "      <td>0.02814</td>\n",
       "      <td>0.0541</td>\n",
       "      <td>0.02760</td>\n",
       "      <td>0.0402</td>\n",
       "      <td>0.0278</td>\n",
       "      <td>0.0423</td>\n",
       "      <td>0.0275</td>\n",
       "    </tr>\n",
       "    <tr>\n",
       "      <th>MAP</th>\n",
       "      <td>0.13770</td>\n",
       "      <td>0.12417</td>\n",
       "      <td>0.2443</td>\n",
       "      <td>0.11260</td>\n",
       "      <td>0.1351</td>\n",
       "      <td>0.1273</td>\n",
       "      <td>0.1377</td>\n",
       "      <td>0.1209</td>\n",
       "    </tr>\n",
       "  </tbody>\n",
       "</table>\n",
       "</div>"
      ],
      "text/plain": [
       "           It_It_5000  ALS_5000  It_It_3000  ALS_3000  It_It_6000  ALS_6000  \\\n",
       "precision     0.23720   0.17411      0.3166   0.16722      0.2251    0.1765   \n",
       "recall        0.04239   0.02814      0.0541   0.02760      0.0402    0.0278   \n",
       "MAP           0.13770   0.12417      0.2443   0.11260      0.1351    0.1273   \n",
       "\n",
       "           It_It_log  ALS_log  \n",
       "precision     0.2372   0.1709  \n",
       "recall        0.0423   0.0275  \n",
       "MAP           0.1377   0.1209  "
      ]
     },
     "execution_count": 70,
     "metadata": {},
     "output_type": "execute_result"
    }
   ],
   "source": [
    "data_BM25 = {'precision':[0.2372, 0.17411, 0.3166, 0.16722, 0.2251, 0.1765, 0.2372, 0.1709],\n",
    "        'recall': [0.04239, 0.02814, 0.0541, 0.0276, 0.0402, 0.0278, 0.0423, 0.0275],\n",
    "        'MAP': [0.1377, 0.12417, 0.2443, 0.1126, 0.1351, 0.1273, 0.1377, 0.1209]}\n",
    "ind = ['It_It_5000', 'ALS_5000', 'It_It_3000', 'ALS_3000', 'It_It_6000', 'ALS_6000', 'It_It_log', 'ALS_log']\n",
    "metrics = pd.DataFrame(data_BM25, index = ind)\n",
    "metrics.T"
   ]
  },
  {
   "cell_type": "markdown",
   "id": "72f57cab",
   "metadata": {},
   "source": [
    "Изменим стандартные параметры bm25 на K1=150, B=0.5"
   ]
  },
  {
   "cell_type": "code",
   "execution_count": 76,
   "id": "0a2758b0",
   "metadata": {},
   "outputs": [
    {
     "data": {
      "text/html": [
       "<div>\n",
       "<style scoped>\n",
       "    .dataframe tbody tr th:only-of-type {\n",
       "        vertical-align: middle;\n",
       "    }\n",
       "\n",
       "    .dataframe tbody tr th {\n",
       "        vertical-align: top;\n",
       "    }\n",
       "\n",
       "    .dataframe thead th {\n",
       "        text-align: right;\n",
       "    }\n",
       "</style>\n",
       "<table border=\"1\" class=\"dataframe\">\n",
       "  <thead>\n",
       "    <tr style=\"text-align: right;\">\n",
       "      <th></th>\n",
       "      <th>It_It_5000</th>\n",
       "      <th>ALS_5000</th>\n",
       "      <th>It_It_3000</th>\n",
       "      <th>ALS_3000</th>\n",
       "      <th>It_It_6000</th>\n",
       "      <th>ALS_6000</th>\n",
       "      <th>It_It_log</th>\n",
       "      <th>ALS_log</th>\n",
       "    </tr>\n",
       "  </thead>\n",
       "  <tbody>\n",
       "    <tr>\n",
       "      <th>precision</th>\n",
       "      <td>0.3188</td>\n",
       "      <td>0.1863</td>\n",
       "      <td>0.3541</td>\n",
       "      <td>0.1857</td>\n",
       "      <td>0.30390</td>\n",
       "      <td>0.18180</td>\n",
       "      <td>0.3188</td>\n",
       "      <td>0.1860</td>\n",
       "    </tr>\n",
       "    <tr>\n",
       "      <th>recall</th>\n",
       "      <td>0.0559</td>\n",
       "      <td>0.0305</td>\n",
       "      <td>0.0599</td>\n",
       "      <td>0.3156</td>\n",
       "      <td>0.05401</td>\n",
       "      <td>0.29180</td>\n",
       "      <td>0.0560</td>\n",
       "      <td>0.0336</td>\n",
       "    </tr>\n",
       "    <tr>\n",
       "      <th>MAP</th>\n",
       "      <td>0.2407</td>\n",
       "      <td>0.1256</td>\n",
       "      <td>0.2812</td>\n",
       "      <td>0.1237</td>\n",
       "      <td>0.22460</td>\n",
       "      <td>0.12621</td>\n",
       "      <td>0.2407</td>\n",
       "      <td>0.1264</td>\n",
       "    </tr>\n",
       "  </tbody>\n",
       "</table>\n",
       "</div>"
      ],
      "text/plain": [
       "           It_It_5000  ALS_5000  It_It_3000  ALS_3000  It_It_6000  ALS_6000  \\\n",
       "precision      0.3188    0.1863      0.3541    0.1857     0.30390   0.18180   \n",
       "recall         0.0559    0.0305      0.0599    0.3156     0.05401   0.29180   \n",
       "MAP            0.2407    0.1256      0.2812    0.1237     0.22460   0.12621   \n",
       "\n",
       "           It_It_log  ALS_log  \n",
       "precision     0.3188   0.1860  \n",
       "recall        0.0560   0.0336  \n",
       "MAP           0.2407   0.1264  "
      ]
     },
     "execution_count": 76,
     "metadata": {},
     "output_type": "execute_result"
    }
   ],
   "source": [
    "data_BM25_150_05 = {'precision':[0.3188, 0.1863, 0.3541, 0.1857, 0.3039, 0.1818, 0.3188, 0.186],\n",
    "                    'recall': [0.0559, 0.0305, 0.0599, 0.3156, 0.05401, 0.2918, 0.056, 0.0336],\n",
    "                    'MAP': [0.2407, 0.1256, 0.2812, 0.1237, 0.2246, 0.12621, 0.2407, 0.1264]}\n",
    "ind = ['It_It_5000', 'ALS_5000', 'It_It_3000', 'ALS_3000', 'It_It_6000', 'ALS_6000', 'It_It_log', 'ALS_log']\n",
    "metrics = pd.DataFrame(data_BM25_150_05, index = ind)\n",
    "metrics.T"
   ]
  },
  {
   "cell_type": "markdown",
   "id": "1e46ff70",
   "metadata": {},
   "source": [
    "Попробуем взвешивание tfidf"
   ]
  },
  {
   "cell_type": "code",
   "execution_count": 72,
   "id": "ffae4c26",
   "metadata": {},
   "outputs": [
    {
     "data": {
      "text/html": [
       "<div>\n",
       "<style scoped>\n",
       "    .dataframe tbody tr th:only-of-type {\n",
       "        vertical-align: middle;\n",
       "    }\n",
       "\n",
       "    .dataframe tbody tr th {\n",
       "        vertical-align: top;\n",
       "    }\n",
       "\n",
       "    .dataframe thead th {\n",
       "        text-align: right;\n",
       "    }\n",
       "</style>\n",
       "<table border=\"1\" class=\"dataframe\">\n",
       "  <thead>\n",
       "    <tr style=\"text-align: right;\">\n",
       "      <th></th>\n",
       "      <th>It_It_5000</th>\n",
       "      <th>ALS_5000</th>\n",
       "      <th>It_It_3000</th>\n",
       "      <th>ALS_3000</th>\n",
       "      <th>It_It_6000</th>\n",
       "      <th>ALS_6000</th>\n",
       "      <th>It_It_log</th>\n",
       "      <th>ALS_log</th>\n",
       "    </tr>\n",
       "  </thead>\n",
       "  <tbody>\n",
       "    <tr>\n",
       "      <th>precision</th>\n",
       "      <td>0.19360</td>\n",
       "      <td>0.18690</td>\n",
       "      <td>0.19360</td>\n",
       "      <td>0.184</td>\n",
       "      <td>0.1936</td>\n",
       "      <td>0.1849</td>\n",
       "      <td>0.1936</td>\n",
       "      <td>0.1850</td>\n",
       "    </tr>\n",
       "    <tr>\n",
       "      <th>recall</th>\n",
       "      <td>0.03489</td>\n",
       "      <td>0.03327</td>\n",
       "      <td>0.03489</td>\n",
       "      <td>0.033</td>\n",
       "      <td>0.0349</td>\n",
       "      <td>0.0330</td>\n",
       "      <td>0.0349</td>\n",
       "      <td>0.0336</td>\n",
       "    </tr>\n",
       "    <tr>\n",
       "      <th>MAP</th>\n",
       "      <td>0.14240</td>\n",
       "      <td>0.12500</td>\n",
       "      <td>0.14250</td>\n",
       "      <td>0.122</td>\n",
       "      <td>0.1425</td>\n",
       "      <td>0.1230</td>\n",
       "      <td>0.1425</td>\n",
       "      <td>0.1234</td>\n",
       "    </tr>\n",
       "  </tbody>\n",
       "</table>\n",
       "</div>"
      ],
      "text/plain": [
       "           It_It_5000  ALS_5000  It_It_3000  ALS_3000  It_It_6000  ALS_6000  \\\n",
       "precision     0.19360   0.18690     0.19360     0.184      0.1936    0.1849   \n",
       "recall        0.03489   0.03327     0.03489     0.033      0.0349    0.0330   \n",
       "MAP           0.14240   0.12500     0.14250     0.122      0.1425    0.1230   \n",
       "\n",
       "           It_It_log  ALS_log  \n",
       "precision     0.1936   0.1850  \n",
       "recall        0.0349   0.0336  \n",
       "MAP           0.1425   0.1234  "
      ]
     },
     "execution_count": 72,
     "metadata": {},
     "output_type": "execute_result"
    }
   ],
   "source": [
    "data_tfidf = {'precision':[0.1936, 0.1869, 0.1936, 0.1840, 0.1936, 0.1849, 0.1936, 0.1850],\n",
    "                    'recall': [0.03489, 0.03327, 0.03489, 0.0330, 0.0349, 0.033, 0.0349, 0.0336],\n",
    "                    'MAP': [0.1424, 0.125, 0.1425, 0.122, 0.1425, 0.1230, 0.1425, 0.1234]}\n",
    "ind = ['It_It_5000', 'ALS_5000', 'It_It_3000', 'ALS_3000', 'It_It_6000', 'ALS_6000', 'It_It_log', 'ALS_log']\n",
    "metrics = pd.DataFrame(data_tfidf, index = ind)\n",
    "metrics.T"
   ]
  },
  {
   "cell_type": "markdown",
   "id": "fd8a1d41",
   "metadata": {},
   "source": [
    "Изменим стандартные параметры bm25 на K1=150, B=0.5 дает более высокое качество чем tfidf"
   ]
  },
  {
   "cell_type": "markdown",
   "id": "41d21db7",
   "metadata": {},
   "source": [
    "### Поменяем параметры ALS"
   ]
  },
  {
   "cell_type": "markdown",
   "id": "cec9763e",
   "metadata": {},
   "source": [
    "factors=100, regularization=0.004, iterations=50 - парамеры взяты из дз - 3 "
   ]
  },
  {
   "cell_type": "code",
   "execution_count": 73,
   "id": "0f54feeb",
   "metadata": {},
   "outputs": [
    {
     "data": {
      "text/html": [
       "<div>\n",
       "<style scoped>\n",
       "    .dataframe tbody tr th:only-of-type {\n",
       "        vertical-align: middle;\n",
       "    }\n",
       "\n",
       "    .dataframe tbody tr th {\n",
       "        vertical-align: top;\n",
       "    }\n",
       "\n",
       "    .dataframe thead th {\n",
       "        text-align: right;\n",
       "    }\n",
       "</style>\n",
       "<table border=\"1\" class=\"dataframe\">\n",
       "  <thead>\n",
       "    <tr style=\"text-align: right;\">\n",
       "      <th></th>\n",
       "      <th>ALS_5000</th>\n",
       "      <th>ALS_3000</th>\n",
       "      <th>ALS_6000</th>\n",
       "      <th>ALS_log</th>\n",
       "    </tr>\n",
       "  </thead>\n",
       "  <tbody>\n",
       "    <tr>\n",
       "      <th>precision</th>\n",
       "      <td>0.202</td>\n",
       "      <td>0.190</td>\n",
       "      <td>0.206</td>\n",
       "      <td>0.206</td>\n",
       "    </tr>\n",
       "    <tr>\n",
       "      <th>recall</th>\n",
       "      <td>0.037</td>\n",
       "      <td>0.038</td>\n",
       "      <td>0.038</td>\n",
       "      <td>0.039</td>\n",
       "    </tr>\n",
       "    <tr>\n",
       "      <th>MAP</th>\n",
       "      <td>0.136</td>\n",
       "      <td>0.124</td>\n",
       "      <td>0.140</td>\n",
       "      <td>0.137</td>\n",
       "    </tr>\n",
       "  </tbody>\n",
       "</table>\n",
       "</div>"
      ],
      "text/plain": [
       "           ALS_5000  ALS_3000  ALS_6000  ALS_log\n",
       "precision     0.202     0.190     0.206    0.206\n",
       "recall        0.037     0.038     0.038    0.039\n",
       "MAP           0.136     0.124     0.140    0.137"
      ]
     },
     "execution_count": 73,
     "metadata": {},
     "output_type": "execute_result"
    }
   ],
   "source": [
    "data_ALS_upd = {'precision':[0.202, 0.19, 0.206, 0.206],\n",
    "                    'recall': [0.037, 0.038, 0.038, 0.039],\n",
    "                    'MAP': [0.136, 0.124, 0.14, 0.137]}\n",
    "ind = [ 'ALS_5000', 'ALS_3000', 'ALS_6000', 'ALS_log']\n",
    "metrics = pd.DataFrame(data_ALS_upd, index = ind)\n",
    "metrics.T"
   ]
  },
  {
   "cell_type": "markdown",
   "id": "794bd7cb",
   "metadata": {},
   "source": [
    "### Реализуем ALS на Pyspark"
   ]
  },
  {
   "cell_type": "code",
   "execution_count": null,
   "id": "e25b4e6b",
   "metadata": {},
   "outputs": [],
   "source": [
    "https://colab.research.google.com/drive/13GMDAaz0k_6wXyDg37AL2yZ13dCyS5ea?usp=sharing"
   ]
  },
  {
   "cell_type": "markdown",
   "id": "3071ae84",
   "metadata": {},
   "source": [
    "Получили более высокие показатели."
   ]
  },
  {
   "cell_type": "markdown",
   "id": "d30c12a5",
   "metadata": {},
   "source": [
    "Возьмем его за основу и постоим 2х уровневую модель."
   ]
  },
  {
   "cell_type": "markdown",
   "id": "f260532e",
   "metadata": {},
   "source": [
    "### Реализуем гибридную модель взяв за первый уровень модель ALS  c наибольшим recall"
   ]
  },
  {
   "cell_type": "code",
   "execution_count": null,
   "id": "98d67922",
   "metadata": {},
   "outputs": [],
   "source": [
    "https://colab.research.google.com/drive/13GMDAaz0k_6wXyDg37AL2yZ13dCyS5ea?usp=sharing"
   ]
  }
 ],
 "metadata": {
  "kernelspec": {
   "display_name": "Python 3 (ipykernel)",
   "language": "python",
   "name": "python3"
  },
  "language_info": {
   "codemirror_mode": {
    "name": "ipython",
    "version": 3
   },
   "file_extension": ".py",
   "mimetype": "text/x-python",
   "name": "python",
   "nbconvert_exporter": "python",
   "pygments_lexer": "ipython3",
   "version": "3.9.7"
  }
 },
 "nbformat": 4,
 "nbformat_minor": 5
}
