{
 "cells": [
  {
   "cell_type": "code",
   "execution_count": 4,
   "id": "bd7df732",
   "metadata": {},
   "outputs": [],
   "source": [
    "import pandas as pd\n",
    "import numpy as np\n",
    "import dill\n",
    "from sklearn.feature_extraction.text import TfidfVectorizer\n",
    "from sklearn.ensemble import RandomForestClassifier\n",
    "from sklearn.model_selection import train_test_split\n",
    "from sklearn.pipeline import Pipeline, make_pipeline\n",
    "from sklearn.base import BaseEstimator, TransformerMixin\n",
    "\n"
   ]
  },
  {
   "cell_type": "markdown",
   "id": "f52722b8",
   "metadata": {},
   "source": [
    "1. Считаем датасет"
   ]
  },
  {
   "cell_type": "code",
   "execution_count": 5,
   "id": "7ac50206",
   "metadata": {},
   "outputs": [
    {
     "data": {
      "text/plain": [
       "(45000, 6)"
      ]
     },
     "execution_count": 5,
     "metadata": {},
     "output_type": "execute_result"
    }
   ],
   "source": [
    "train_data = pd.read_csv(\"train.csv\")\n",
    "train_data.shape"
   ]
  },
  {
   "cell_type": "code",
   "execution_count": 6,
   "id": "e87363ec",
   "metadata": {},
   "outputs": [
    {
     "data": {
      "text/plain": [
       "(15000, 6)"
      ]
     },
     "execution_count": 6,
     "metadata": {},
     "output_type": "execute_result"
    }
   ],
   "source": [
    "valid_data = pd.read_csv(\"valid.csv\")\n",
    "valid_data.shape"
   ]
  },
  {
   "cell_type": "markdown",
   "id": "e7a8e185",
   "metadata": {},
   "source": [
    "2. Объединим в один датасет для обработки данных"
   ]
  },
  {
   "cell_type": "code",
   "execution_count": 7,
   "id": "e1a1ddff",
   "metadata": {},
   "outputs": [
    {
     "data": {
      "text/plain": [
       "(60000, 6)"
      ]
     },
     "execution_count": 7,
     "metadata": {},
     "output_type": "execute_result"
    }
   ],
   "source": [
    "data = pd.concat([train_data, valid_data])\n",
    "data.shape"
   ]
  },
  {
   "cell_type": "code",
   "execution_count": 8,
   "id": "e6533e90",
   "metadata": {},
   "outputs": [
    {
     "data": {
      "text/html": [
       "<div>\n",
       "<style scoped>\n",
       "    .dataframe tbody tr th:only-of-type {\n",
       "        vertical-align: middle;\n",
       "    }\n",
       "\n",
       "    .dataframe tbody tr th {\n",
       "        vertical-align: top;\n",
       "    }\n",
       "\n",
       "    .dataframe thead th {\n",
       "        text-align: right;\n",
       "    }\n",
       "</style>\n",
       "<table border=\"1\" class=\"dataframe\">\n",
       "  <thead>\n",
       "    <tr style=\"text-align: right;\">\n",
       "      <th></th>\n",
       "      <th>Id</th>\n",
       "      <th>Title</th>\n",
       "      <th>Body</th>\n",
       "      <th>Tags</th>\n",
       "      <th>CreationDate</th>\n",
       "      <th>Y</th>\n",
       "    </tr>\n",
       "  </thead>\n",
       "  <tbody>\n",
       "    <tr>\n",
       "      <th>0</th>\n",
       "      <td>34552656</td>\n",
       "      <td>Java: Repeat Task Every Random Seconds</td>\n",
       "      <td>&lt;p&gt;I'm already familiar with repeating tasks e...</td>\n",
       "      <td>&lt;java&gt;&lt;repeat&gt;</td>\n",
       "      <td>2016-01-01 00:21:59</td>\n",
       "      <td>LQ_CLOSE</td>\n",
       "    </tr>\n",
       "    <tr>\n",
       "      <th>1</th>\n",
       "      <td>34553034</td>\n",
       "      <td>Why are Java Optionals immutable?</td>\n",
       "      <td>&lt;p&gt;I'd like to understand why Java 8 Optionals...</td>\n",
       "      <td>&lt;java&gt;&lt;optional&gt;</td>\n",
       "      <td>2016-01-01 02:03:20</td>\n",
       "      <td>HQ</td>\n",
       "    </tr>\n",
       "    <tr>\n",
       "      <th>2</th>\n",
       "      <td>34553174</td>\n",
       "      <td>Text Overlay Image with Darkened Opacity React...</td>\n",
       "      <td>&lt;p&gt;I am attempting to overlay a title over an ...</td>\n",
       "      <td>&lt;javascript&gt;&lt;image&gt;&lt;overlay&gt;&lt;react-native&gt;&lt;opa...</td>\n",
       "      <td>2016-01-01 02:48:24</td>\n",
       "      <td>HQ</td>\n",
       "    </tr>\n",
       "    <tr>\n",
       "      <th>3</th>\n",
       "      <td>34553318</td>\n",
       "      <td>Why ternary operator in swift is so picky?</td>\n",
       "      <td>&lt;p&gt;The question is very simple, but I just cou...</td>\n",
       "      <td>&lt;swift&gt;&lt;operators&gt;&lt;whitespace&gt;&lt;ternary-operato...</td>\n",
       "      <td>2016-01-01 03:30:17</td>\n",
       "      <td>HQ</td>\n",
       "    </tr>\n",
       "    <tr>\n",
       "      <th>4</th>\n",
       "      <td>34553755</td>\n",
       "      <td>hide/show fab with scale animation</td>\n",
       "      <td>&lt;p&gt;I'm using custom floatingactionmenu. I need...</td>\n",
       "      <td>&lt;android&gt;&lt;material-design&gt;&lt;floating-action-but...</td>\n",
       "      <td>2016-01-01 05:21:48</td>\n",
       "      <td>HQ</td>\n",
       "    </tr>\n",
       "  </tbody>\n",
       "</table>\n",
       "</div>"
      ],
      "text/plain": [
       "         Id                                              Title  \\\n",
       "0  34552656             Java: Repeat Task Every Random Seconds   \n",
       "1  34553034                  Why are Java Optionals immutable?   \n",
       "2  34553174  Text Overlay Image with Darkened Opacity React...   \n",
       "3  34553318         Why ternary operator in swift is so picky?   \n",
       "4  34553755                 hide/show fab with scale animation   \n",
       "\n",
       "                                                Body  \\\n",
       "0  <p>I'm already familiar with repeating tasks e...   \n",
       "1  <p>I'd like to understand why Java 8 Optionals...   \n",
       "2  <p>I am attempting to overlay a title over an ...   \n",
       "3  <p>The question is very simple, but I just cou...   \n",
       "4  <p>I'm using custom floatingactionmenu. I need...   \n",
       "\n",
       "                                                Tags         CreationDate  \\\n",
       "0                                     <java><repeat>  2016-01-01 00:21:59   \n",
       "1                                   <java><optional>  2016-01-01 02:03:20   \n",
       "2  <javascript><image><overlay><react-native><opa...  2016-01-01 02:48:24   \n",
       "3  <swift><operators><whitespace><ternary-operato...  2016-01-01 03:30:17   \n",
       "4  <android><material-design><floating-action-but...  2016-01-01 05:21:48   \n",
       "\n",
       "          Y  \n",
       "0  LQ_CLOSE  \n",
       "1        HQ  \n",
       "2        HQ  \n",
       "3        HQ  \n",
       "4        HQ  "
      ]
     },
     "execution_count": 8,
     "metadata": {},
     "output_type": "execute_result"
    }
   ],
   "source": [
    "data.head(5)"
   ]
  },
  {
   "cell_type": "markdown",
   "id": "16ed325a",
   "metadata": {},
   "source": [
    "3. Объединим столбцы 'Title', 'Body' в один столбец"
   ]
  },
  {
   "cell_type": "code",
   "execution_count": 9,
   "id": "89d9d0f0",
   "metadata": {},
   "outputs": [
    {
     "data": {
      "text/plain": [
       "0    Java: Repeat Task Every Random Seconds <p>I'm ...\n",
       "1    Why are Java Optionals immutable? <p>I'd like ...\n",
       "2    Text Overlay Image with Darkened Opacity React...\n",
       "3    Why ternary operator in swift is so picky? <p>...\n",
       "4    hide/show fab with scale animation <p>I'm usin...\n",
       "Name: Text, dtype: object"
      ]
     },
     "execution_count": 9,
     "metadata": {},
     "output_type": "execute_result"
    }
   ],
   "source": [
    "data['Text']=data['Title']+' '+data['Body']\n",
    "data['Text'].head(5)"
   ]
  },
  {
   "cell_type": "markdown",
   "id": "dd81cf46",
   "metadata": {},
   "source": [
    "4. Очистим текст 'Body' от атибутов html кода"
   ]
  },
  {
   "cell_type": "code",
   "execution_count": 10,
   "id": "c16ad82d",
   "metadata": {},
   "outputs": [],
   "source": [
    "\n",
    "from html import unescape\n",
    "\n",
    "def delete_html_chars(text):\n",
    "        parsed_text = unescape(text)\n",
    "        return parsed_text"
   ]
  },
  {
   "cell_type": "code",
   "execution_count": 11,
   "id": "165d2d0f",
   "metadata": {},
   "outputs": [
    {
     "data": {
      "text/plain": [
       "0    Java: Repeat Task Every Random Seconds <p>I'm ...\n",
       "1    Why are Java Optionals immutable? <p>I'd like ...\n",
       "2    Text Overlay Image with Darkened Opacity React...\n",
       "3    Why ternary operator in swift is so picky? <p>...\n",
       "4    hide/show fab with scale animation <p>I'm usin...\n",
       "5    Accessing pointer member of the structure usin...\n",
       "6    How To Disable 2nd Saturday 4th Saturday ,Sund...\n",
       "7    Resizing containers in bootstrap I am new to b...\n",
       "8    Changing Theme in Windows 10 UWP App Programma...\n",
       "Name: Text, dtype: object"
      ]
     },
     "execution_count": 11,
     "metadata": {},
     "output_type": "execute_result"
    }
   ],
   "source": [
    "data['Text'] = data['Text'].apply(delete_html_chars)\n",
    "data['Text'].head(9)"
   ]
  },
  {
   "cell_type": "code",
   "execution_count": 12,
   "id": "1f35c428",
   "metadata": {},
   "outputs": [],
   "source": [
    "import re\n",
    "\n",
    "def text_clean(text):\n",
    "    if not isinstance(text, str):\n",
    "        text = str(text)\n",
    "    \n",
    "    text = text.lower()\n",
    "    text = text.strip('\\n').strip('\\r').strip('\\t')\n",
    "    text = re.sub(\"-\\s\\r\\n\\|-\\s\\r\\n|\\r\\n\", '', str(text))\n",
    "\n",
    "    text = re.sub(\"[0-9]|[-—.,:;_%©«»?*!@#№$^•·&()]|[+=]|[[]|[]]|[/]|\", '', text)\n",
    "    text = re.sub(r\"\\r\\n\\t|\\n|\\\\s|\\r\\t|\\\\n\", ' ', text)\n",
    "    text = re.sub(r'[\\xad]|[\\s+]', ' ', text.strip())\n",
    "    text = re.sub('[^\\w\\s]', '',text)\n",
    "    text = re.sub(r'<.*?>', '', text)\n",
    "    return text"
   ]
  },
  {
   "cell_type": "code",
   "execution_count": 13,
   "id": "40553025",
   "metadata": {},
   "outputs": [
    {
     "name": "stderr",
     "output_type": "stream",
     "text": [
      "<ipython-input-12-1a3fab994556>:11: FutureWarning: Possible nested set at position 39\n",
      "  text = re.sub(\"[0-9]|[-—.,:;_%©«»?*!@#№$^•·&()]|[+=]|[[]|[]]|[/]|\", '', text)\n"
     ]
    }
   ],
   "source": [
    "data['Text'] = data['Text'].apply(text_clean)"
   ]
  },
  {
   "cell_type": "code",
   "execution_count": 15,
   "id": "4f811f14",
   "metadata": {},
   "outputs": [
    {
     "data": {
      "text/plain": [
       "0    java repeat task every random seconds pim alre...\n",
       "1    why are java optionals immutable pid like to u...\n",
       "2    text overlay image with darkened opacity react...\n",
       "3    why ternary operator in swift is so picky pthe...\n",
       "4    hideshow fab with scale animation pim using cu...\n",
       "5    accessing pointer member of the structure usin...\n",
       "6    how to disable nd saturday th saturday sunday ...\n",
       "7    resizing containers in bootstrap i am new to b...\n",
       "8    changing theme in windows  uwp app programmati...\n",
       "9    textbox value disappears vb i my case i am hav...\n",
       "Name: Text, dtype: object"
      ]
     },
     "execution_count": 15,
     "metadata": {},
     "output_type": "execute_result"
    }
   ],
   "source": [
    "data['Text'].head(10)"
   ]
  },
  {
   "cell_type": "markdown",
   "id": "89fb4818",
   "metadata": {},
   "source": [
    "5. Обработаем целевую переменную 'Y'\n"
   ]
  },
  {
   "cell_type": "code",
   "execution_count": 17,
   "id": "a9c375fe",
   "metadata": {},
   "outputs": [],
   "source": [
    "from sklearn.preprocessing import LabelEncoder\n",
    "le = LabelEncoder()\n",
    "data['Class']=le.fit_transform(data['Y'])"
   ]
  },
  {
   "cell_type": "code",
   "execution_count": 18,
   "id": "e4f525ff",
   "metadata": {},
   "outputs": [
    {
     "data": {
      "text/plain": [
       "0    20000\n",
       "1    20000\n",
       "2    20000\n",
       "Name: Class, dtype: int64"
      ]
     },
     "execution_count": 18,
     "metadata": {},
     "output_type": "execute_result"
    }
   ],
   "source": [
    "data['Class'].value_counts()"
   ]
  },
  {
   "cell_type": "code",
   "execution_count": 19,
   "id": "dfc5055d",
   "metadata": {},
   "outputs": [
    {
     "data": {
      "text/plain": [
       "<AxesSubplot:xlabel='Class', ylabel='count'>"
      ]
     },
     "execution_count": 19,
     "metadata": {},
     "output_type": "execute_result"
    },
    {
     "data": {
      "image/png": "[encoded data removed]",
      "text/plain": [
       "<Figure size 432x288 with 1 Axes>"
      ]
     },
     "metadata": {},
     "output_type": "display_data"
    }
   ],
   "source": [
    "import seaborn as sns\n",
    "sns.set_style('whitegrid')\n",
    "sns.countplot(x=\"Class\",data=data,palette='RdBu_r')"
   ]
  },
  {
   "cell_type": "markdown",
   "id": "0d04cd34",
   "metadata": {},
   "source": [
    "6. Сформируем новый датасет для обучения"
   ]
  },
  {
   "cell_type": "code",
   "execution_count": 20,
   "id": "0ec2531f",
   "metadata": {},
   "outputs": [
    {
     "data": {
      "text/plain": [
       "Index(['Id', 'Title', 'Body', 'Tags', 'CreationDate', 'Y', 'Text', 'Class'], dtype='object')"
      ]
     },
     "execution_count": 20,
     "metadata": {},
     "output_type": "execute_result"
    }
   ],
   "source": [
    "data.columns"
   ]
  },
  {
   "cell_type": "code",
   "execution_count": 22,
   "id": "fb2597a8",
   "metadata": {},
   "outputs": [
    {
     "data": {
      "text/html": [
       "<div>\n",
       "<style scoped>\n",
       "    .dataframe tbody tr th:only-of-type {\n",
       "        vertical-align: middle;\n",
       "    }\n",
       "\n",
       "    .dataframe tbody tr th {\n",
       "        vertical-align: top;\n",
       "    }\n",
       "\n",
       "    .dataframe thead th {\n",
       "        text-align: right;\n",
       "    }\n",
       "</style>\n",
       "<table border=\"1\" class=\"dataframe\">\n",
       "  <thead>\n",
       "    <tr style=\"text-align: right;\">\n",
       "      <th></th>\n",
       "      <th>Text</th>\n",
       "      <th>Class</th>\n",
       "    </tr>\n",
       "  </thead>\n",
       "  <tbody>\n",
       "    <tr>\n",
       "      <th>0</th>\n",
       "      <td>java repeat task every random seconds pim alre...</td>\n",
       "      <td>1</td>\n",
       "    </tr>\n",
       "    <tr>\n",
       "      <th>1</th>\n",
       "      <td>why are java optionals immutable pid like to u...</td>\n",
       "      <td>0</td>\n",
       "    </tr>\n",
       "    <tr>\n",
       "      <th>2</th>\n",
       "      <td>text overlay image with darkened opacity react...</td>\n",
       "      <td>0</td>\n",
       "    </tr>\n",
       "    <tr>\n",
       "      <th>3</th>\n",
       "      <td>why ternary operator in swift is so picky pthe...</td>\n",
       "      <td>0</td>\n",
       "    </tr>\n",
       "    <tr>\n",
       "      <th>4</th>\n",
       "      <td>hideshow fab with scale animation pim using cu...</td>\n",
       "      <td>0</td>\n",
       "    </tr>\n",
       "    <tr>\n",
       "      <th>5</th>\n",
       "      <td>accessing pointer member of the structure usin...</td>\n",
       "      <td>1</td>\n",
       "    </tr>\n",
       "    <tr>\n",
       "      <th>6</th>\n",
       "      <td>how to disable nd saturday th saturday sunday ...</td>\n",
       "      <td>2</td>\n",
       "    </tr>\n",
       "    <tr>\n",
       "      <th>7</th>\n",
       "      <td>resizing containers in bootstrap i am new to b...</td>\n",
       "      <td>2</td>\n",
       "    </tr>\n",
       "    <tr>\n",
       "      <th>8</th>\n",
       "      <td>changing theme in windows  uwp app programmati...</td>\n",
       "      <td>0</td>\n",
       "    </tr>\n",
       "    <tr>\n",
       "      <th>9</th>\n",
       "      <td>textbox value disappears vb i my case i am hav...</td>\n",
       "      <td>2</td>\n",
       "    </tr>\n",
       "  </tbody>\n",
       "</table>\n",
       "</div>"
      ],
      "text/plain": [
       "                                                Text  Class\n",
       "0  java repeat task every random seconds pim alre...      1\n",
       "1  why are java optionals immutable pid like to u...      0\n",
       "2  text overlay image with darkened opacity react...      0\n",
       "3  why ternary operator in swift is so picky pthe...      0\n",
       "4  hideshow fab with scale animation pim using cu...      0\n",
       "5  accessing pointer member of the structure usin...      1\n",
       "6  how to disable nd saturday th saturday sunday ...      2\n",
       "7  resizing containers in bootstrap i am new to b...      2\n",
       "8  changing theme in windows  uwp app programmati...      0\n",
       "9  textbox value disappears vb i my case i am hav...      2"
      ]
     },
     "execution_count": 22,
     "metadata": {},
     "output_type": "execute_result"
    }
   ],
   "source": [
    "new_data = data[['Text', 'Class']]\n",
    "new_data.head(10)"
   ]
  },
  {
   "cell_type": "markdown",
   "id": "d98aebd9",
   "metadata": {},
   "source": [
    "7. Разделим датасет на тренировочный и тестовый"
   ]
  },
  {
   "cell_type": "code",
   "execution_count": 23,
   "id": "816db313",
   "metadata": {},
   "outputs": [],
   "source": [
    "X_train, X_test, y_train, y_test = train_test_split(new_data.drop(columns=['Class']),\n",
    "                                                    new_data['Class'], random_state=0)"
   ]
  },
  {
   "cell_type": "markdown",
   "id": "d947abb6",
   "metadata": {},
   "source": [
    "8. Создадим класс для отбора признаков"
   ]
  },
  {
   "cell_type": "code",
   "execution_count": 24,
   "id": "684c4eed",
   "metadata": {},
   "outputs": [],
   "source": [
    "class FeatureSelector(BaseEstimator, TransformerMixin):\n",
    "    def __init__(self, column):\n",
    "        self.column = column\n",
    "\n",
    "    def fit(self, X, y=None):\n",
    "        return self\n",
    "\n",
    "    def transform(self, X, y=None):\n",
    "        return X[self.column]\n"
   ]
  },
  {
   "cell_type": "markdown",
   "id": "16b4a2fd",
   "metadata": {},
   "source": [
    "9. Создадим паплайдля обучения. (Сравним методы Случайный лес, KNN, логистическая регрессия, метод опорных векторов)"
   ]
  },
  {
   "cell_type": "code",
   "execution_count": 34,
   "id": "e4dea600",
   "metadata": {},
   "outputs": [],
   "source": [
    "classifier = Pipeline([('comment_text_selector', FeatureSelector(column='Text')),\n",
    "                       ('comment_text_tfidf', TfidfVectorizer(strip_accents='unicode',\n",
    "                                                              analyzer='word',\n",
    "                                                              token_pattern=r'\\w{1,}',\n",
    "                                                              stop_words='english',\n",
    "                                                              max_features=5000)),\n",
    "                       ('clf', RandomForestClassifier(max_depth=2, random_state=0))])"
   ]
  },
  {
   "cell_type": "code",
   "execution_count": 35,
   "id": "9277105e",
   "metadata": {},
   "outputs": [
    {
     "data": {
      "text/plain": [
       "Pipeline(steps=[('comment_text_selector', FeatureSelector(column='Text')),\n",
       "                ('comment_text_tfidf',\n",
       "                 TfidfVectorizer(max_features=5000, stop_words='english',\n",
       "                                 strip_accents='unicode',\n",
       "                                 token_pattern='\\\\w{1,}')),\n",
       "                ('clf', RandomForestClassifier(max_depth=2, random_state=0))])"
      ]
     },
     "execution_count": 35,
     "metadata": {},
     "output_type": "execute_result"
    }
   ],
   "source": [
    "classifier.fit(X_train, y_train)"
   ]
  },
  {
   "cell_type": "code",
   "execution_count": 27,
   "id": "964ee39d",
   "metadata": {},
   "outputs": [
    {
     "name": "stdout",
     "output_type": "stream",
     "text": [
      "              precision    recall  f1-score   support\n",
      "\n",
      "           0       0.76      0.74      0.75      4979\n",
      "           1       0.82      0.45      0.58      4991\n",
      "           2       0.68      0.99      0.80      5030\n",
      "\n",
      "    accuracy                           0.73     15000\n",
      "   macro avg       0.75      0.73      0.71     15000\n",
      "weighted avg       0.75      0.73      0.71     15000\n",
      "\n"
     ]
    }
   ],
   "source": [
    "from sklearn.metrics import classification_report\n",
    "pred = classifier.predict(X_test)\n",
    "print(classification_report(y_test,pred))"
   ]
  },
  {
   "cell_type": "code",
   "execution_count": 28,
   "id": "18dc0472",
   "metadata": {},
   "outputs": [
    {
     "name": "stdout",
     "output_type": "stream",
     "text": [
      "              precision    recall  f1-score   support\n",
      "\n",
      "           0       0.67      0.65      0.66      4979\n",
      "           1       0.49      0.49      0.49      4991\n",
      "           2       0.53      0.54      0.54      5030\n",
      "\n",
      "    accuracy                           0.56     15000\n",
      "   macro avg       0.56      0.56      0.56     15000\n",
      "weighted avg       0.56      0.56      0.56     15000\n",
      "\n"
     ]
    }
   ],
   "source": [
    "from sklearn.neighbors import KNeighborsClassifier\n",
    "classifier_KNN = Pipeline([('comment_text_selector', FeatureSelector(column='Text')),\n",
    "                           ('comment_text_tfidf', TfidfVectorizer(strip_accents='unicode',\n",
    "                                                              analyzer='word',\n",
    "                                                              token_pattern=r'\\w{1,}',\n",
    "                                                              stop_words='english',\n",
    "                                                              max_features=5000)),\n",
    "                           ('clf', KNeighborsClassifier())])\n",
    "classifier_KNN.fit(X_train, y_train)\n",
    "pred_KNN = classifier_KNN.predict(X_test)\n",
    "print(classification_report(y_test,pred_KNN))"
   ]
  },
  {
   "cell_type": "code",
   "execution_count": 29,
   "id": "420e808a",
   "metadata": {
    "scrolled": false
   },
   "outputs": [
    {
     "name": "stdout",
     "output_type": "stream",
     "text": [
      "              precision    recall  f1-score   support\n",
      "\n",
      "           0       0.86      0.84      0.85      4979\n",
      "           1       0.85      0.80      0.82      4991\n",
      "           2       0.91      0.98      0.95      5030\n",
      "\n",
      "    accuracy                           0.87     15000\n",
      "   macro avg       0.87      0.87      0.87     15000\n",
      "weighted avg       0.87      0.87      0.87     15000\n",
      "\n"
     ]
    }
   ],
   "source": [
    "from sklearn.linear_model import LogisticRegression\n",
    "classifier_LG = Pipeline([('comment_text_selector', FeatureSelector(column='Text')),\n",
    "                       ('comment_text_tfidf', TfidfVectorizer(strip_accents='unicode',\n",
    "                                                              analyzer='word',\n",
    "                                                              token_pattern=r'\\w{1,}',\n",
    "                                                              stop_words='english',\n",
    "                                                              max_features=5000)),\n",
    "                       ('clf', LogisticRegression(max_iter=5000))])\n",
    "classifier_LG.fit(X_train, y_train)\n",
    "pred_LG = classifier_LG.predict(X_test)\n",
    "print(classification_report(y_test,pred_LG))"
   ]
  },
  {
   "cell_type": "code",
   "execution_count": 33,
   "id": "66da47b0",
   "metadata": {},
   "outputs": [
    {
     "name": "stdout",
     "output_type": "stream",
     "text": [
      "              precision    recall  f1-score   support\n",
      "\n",
      "           0       0.86      0.84      0.85      4979\n",
      "           1       0.85      0.80      0.82      4991\n",
      "           2       0.91      0.98      0.95      5030\n",
      "\n",
      "    accuracy                           0.87     15000\n",
      "   macro avg       0.87      0.87      0.87     15000\n",
      "weighted avg       0.87      0.87      0.87     15000\n",
      "\n"
     ]
    }
   ],
   "source": [
    "\n",
    "from sklearn.svm import LinearSVC\n",
    "classifier_SVC = Pipeline([('comment_text_selector', FeatureSelector(column='Text')),\n",
    "                       ('comment_text_tfidf', TfidfVectorizer(strip_accents='unicode',\n",
    "                                                              analyzer='word',\n",
    "                                                              token_pattern=r'\\w{1,}',\n",
    "                                                              stop_words='english',\n",
    "                                                              max_features=5000)),\n",
    "                           ('clf', LinearSVC())])\n",
    "classifier_SVC.fit(X_train, y_train)\n",
    "pred_SVC = classifier_LG.predict(X_test)\n",
    "print(classification_report(y_test,pred_SVC))\n"
   ]
  },
  {
   "cell_type": "markdown",
   "id": "07b0b8b7",
   "metadata": {},
   "source": [
    "Наибольшую точность дает метод логистической регрессии и метод опорных векторов"
   ]
  },
  {
   "cell_type": "code",
   "execution_count": 36,
   "id": "e83f6f70",
   "metadata": {},
   "outputs": [
    {
     "data": {
      "text/plain": [
       "array([1, 0, 2, ..., 1, 0, 2])"
      ]
     },
     "execution_count": 36,
     "metadata": {},
     "output_type": "execute_result"
    }
   ],
   "source": [
    "pred_LG"
   ]
  },
  {
   "cell_type": "code",
   "execution_count": null,
   "id": "a57ef15b",
   "metadata": {},
   "outputs": [],
   "source": []
  }
 ],
 "metadata": {
  "kernelspec": {
   "display_name": "Python 3",
   "language": "python",
   "name": "python3"
  },
  "language_info": {
   "codemirror_mode": {
    "name": "ipython",
    "version": 3
   },
   "file_extension": ".py",
   "mimetype": "text/x-python",
   "name": "python",
   "nbconvert_exporter": "python",
   "pygments_lexer": "ipython3",
   "version": "3.8.8"
  }
 },
 "nbformat": 4,
 "nbformat_minor": 5
}
